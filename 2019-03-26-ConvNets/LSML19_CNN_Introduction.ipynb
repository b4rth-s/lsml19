{
 "cells": [
  {
   "cell_type": "markdown",
   "metadata": {
    "colab_type": "text",
    "id": "UrMwfTnWanKH"
   },
   "source": [
    "This notebook has been prepared by Fabien Moutarde and Guillaume Devineau from MINES ParisTech.\n",
    "\n",
    "It adapts/combines 2 notebooks from : http://online.cambridgecoding.com/notebooks/cca_admin/deep-learning-for-complete-beginners-recognising-handwritten-digits\n",
    "http://online.cambridgecoding.com/notebooks/cca_admin/convolutional-neural-networks-with-keras"
   ]
  },
  {
   "cell_type": "markdown",
   "metadata": {
    "colab_type": "text",
    "id": "ansIhVtn6YOI"
   },
   "source": [
    "NOTE: For the colab version of the notebook please make sure that you are using python3 and a **GPU accelerated backend** (select *GPU* as Hardware accelerator either in the *Edit > Notebook settings* or in the *Runtime > Change runtime type* menus for the english colab interface, or in the *Execution > Modifier le type d'exécution* menus for the french colab interface)."
   ]
  },
  {
   "cell_type": "markdown",
   "metadata": {
    "colab_type": "text",
    "id": "3u6qAh9B6YOI"
   },
   "source": [
    "# Deep-Learning: Introduction to Convolutional Neural Networks"
   ]
  },
  {
   "cell_type": "markdown",
   "metadata": {
    "colab_type": "text",
    "id": "pKO2vQLhalS4"
   },
   "source": [
    "## 1. Introduction\n",
    "\n",
    "Welcome to a tutorial to get you quickly up to speed with *deep learning*; from first principles, all the way to discussions of some of the intricate details, with the purposes of achieving respectable performance on one established machine learning benchmark: [MNIST](http://yann.lecun.com/exdb/mnist/) (classification of handwritten digits).\n",
    "\n",
    "\n",
    "MNIST dataset                      \n",
    "![](http://perso.mines-paristech.fr/fabien.moutarde/ES_MachineLearning/TP_convNets/mnist.png)  \n",
    "\n",
    "By the end of this part of the tutorial, you should be capable of understanding and producing a simple CNN (with a structure similar to LeNet architecture) in Keras, achieving a respectable level of accuracy on MNIST.\n"
   ]
  },
  {
   "cell_type": "markdown",
   "metadata": {
    "colab_type": "text",
    "id": "k4AgL6_-afa7"
   },
   "source": [
    "## 2. Convolutions\n",
    "\n",
    "It turns out that there is a very efficient way of pulling this off, and it makes advantage of the structure of the information encoded within an image---it is assumed that pixels that are spatially *closer* together will \"cooperate\" on forming a particular feature of interest much more than ones on opposite corners of the image. Also, if a particular (smaller) feature is found to be of great importance when defining an image's label, it will be equally important if this feature was found anywhere within the image, regardless of location.\n",
    "\n",
    "Enter the **convolution** operator. Given a two-dimensional image, $\\bf I$, and a small matrix, $\\bf K$ of size $h \\times w$, (known as a *convolution kernel*), which we assume encodes a way of extracting an interesting image feature, we compute the convolved image, ${\\bf I} * {\\bf K}$, by overlaying the kernel on top of the image in all possible ways, and recording the sum of elementwise products between the image and the kernel:\n",
    "\n",
    "$$({\\bf I} * {\\bf K})_{xy} = \\sum_{i=1}^h \\sum_{j=1}^w {{\\bf K}_{ij} \\cdot {\\bf I}_{x + i - 1, y + j - 1}}$$\n",
    "\n",
    "(in fact, the exact definition would require us to flip the kernel matrix first, but for the purposes of machine learning it is irrelevant whether this is done)\n",
    "\n",
    "The images below show a diagrammatical overview of the above formula and the result of applying convolution (with two separate kernels) over an image, to act as an edge detector:\n",
    "\n",
    "![](http://perso.mines-paristech.fr/fabien.moutarde/ES_MachineLearning/TP_convNets/convolve.png)\n",
    "![](http://perso.mines-paristech.fr/fabien.moutarde/ES_MachineLearning/TP_convNets/lena.jpg)"
   ]
  },
  {
   "cell_type": "markdown",
   "metadata": {
    "colab_type": "text",
    "id": "zh1kyIfNafa8"
   },
   "source": [
    "## 3. Convolutional layers and Pooling layers\n",
    "\n",
    "The convolution operator forms the fundamental basis of the **convolutional** layer of a CNN. The layer is completely specified by a certain number of kernels, $\\bf \\vec{K}$ (along with additive biases, $\\vec{b}$, per each kernel), and it operates by computing the convolution of the output images of a previous layer with each of those kernels, afterwards adding the biases (one per each output image). Finally, an activation function, $\\sigma$, may be applied to all of the pixels of the output images. Typically, the input to a convolutional layer will have $d$ *channels* (e.g. red/green/blue in the input layer), in which case the kernels are extended to have this number of channels as well, making the final formula of a single output image channel of a convolutional layer (for a kernel ${\\bf K}$ and bias $b$) as follows:\n",
    "\n",
    "$$\\mathrm{conv}({\\bf I}, {\\bf K})_{xy} = \\sigma\\left(b + \\sum_{i=1}^h \\sum_{j=1}^w \\sum_{k=1}^d {{\\bf K}_{ijk} \\cdot {\\bf I}_{x + i - 1, y + j - 1, k}}\\right)$$\n",
    "\n",
    "Note that, since all we're doing here is addition and scaling of the input pixels, the kernels may be learned from a given training dataset via *gradient descent*, exactly as the weights of an MLP. In fact, an MLP is perfectly capable of replicating a convolutional layer, but it would require a lot more training time (and data) to learn to approximate that mode of operation.\n",
    "\n",
    "Finally, let's just note that a convolutional operator is in no way restricted to two-dimensionally structured data: in fact, most machine learning frameworks ([Keras included](https://keras.io/layers/convolutional/)) will provide you with out-of-the-box layers for 1D and 3D convolutions as well!\n",
    "\n",
    "It is important to note that, while a convolutional layer significantly decreases the number of *parameters* compared to a fully connected (FC) layer, it introduces more **hyperparameters**---parameters whose values need to be chosen *before* training starts.\n",
    "\n",
    "Namely, the hyperparameters to choose within a single convolutional layer are:\n",
    "- *depth*: how many different kernels (and biases) will be convolved with the output of the previous layer;\n",
    "- *height* and *width* of each kernel;\n",
    "- *stride*: by how much we shift the kernel in each step to compute the next pixel in the result. This specifies the overlap between individual output pixels, and typically it is set to $1$, corresponding to the formula given before. Note that larger strides result in smaller output sizes.\n",
    "- *padding*: note that convolution by any kernel larger than $1\\times 1$ will *decrease* the output image size---it is often desirable to keep sizes the same, in which case the image is sufficiently padded with zeroes at the edges. This is often called *\"same\"* padding, as opposed to *\"valid\"* (no) padding. It is possible to add arbitrary levels of padding, but typically the padding of choice will be either same or valid.\n",
    "\n",
    "As already hinted, convolutions are not typically meant to be the sole operation in a CNN (although there have been promising recent developments on [all-convolutional networks](https://arxiv.org/pdf/1412.6806v3.pdf)); but rather to extract useful features of an image prior to downsampling it sufficiently to be manageable by an MLP.\n",
    "\n",
    "A very popular approach to downsampling is a *pooling* layer, which consumes small and (usually) disjoint chunks of the image (typically $2\\times 2$) and aggregates them into a single value. There are several possible schemes for the aggregation---the most popular being **max-pooling**, where the maximum pixel value within each chunk is taken. A diagrammatical illustration of $2\\times 2$ max-pooling is given below.\n",
    "\n",
    "![](http://perso.mines-paristech.fr/fabien.moutarde/ES_MachineLearning/TP_convNets/pool.png)"
   ]
  },
  {
   "cell_type": "markdown",
   "metadata": {
    "colab_type": "text",
    "id": "-_DYmVMJafa9"
   },
   "source": [
    "## 4. Convolutional Neural Network (CNN) architecture\n",
    "\n",
    "Now that we got all the building blocks, let's see what a typical convolutional neural network might look like!\n",
    "\n",
    "![](http://perso.mines-paristech.fr/fabien.moutarde/ES_MachineLearning/TP_convNets/cnn.png)\n",
    "\n",
    "A typical CNN architecture for a $k$-class image classification can be split into two distinct parts---a chain of repeating $\\mathrm{Conv}\\rightarrow\\mathrm{Pool}$ layers (sometimes with more than one convolutional layer at once), followed by a few fully connected layers (taking each pixel of the computed images as an independent input), culminating in a $k$-way softmax layer, to which a cross-entropy loss is optimised. I did not draw the activation functions here to make the sketch clearer, but do keep in mind that typically after every convolutional or fully connected layer, an activation (e.g. ReLU) will be applied to all of the outputs.\n",
    "\n",
    "Note the effect of a single $\\mathrm{Conv}\\rightarrow\\mathrm{Pool}$ pass through the image: it reduces height and width of the individual channels in favour of their number, i.e. *depth*.\n",
    "\n",
    "The softmax layer and cross-entropy loss are both introduced in more detail [in the previous tutorial](http://online.cambridgecoding.com/notebooks/cca_admin/deep-learning-for-complete-beginners-recognising-handwritten-digits). For summarisation purposes, a softmax layer's purpose is converting any vector of real numbers into a vector of *probabilities* (nonnegative real values that add up to 1). Within this context, the probabilities correspond to the likelihoods that an input image is a member of a particular class. Minimising the cross-entropy loss has the effect of maximising the model's confidence in the *correct* class, without being concerned for the probabilites for other classes---this makes it a more suitable choice for probabilistic tasks compared to, for example, the squared error loss."
   ]
  },
  {
   "cell_type": "markdown",
   "metadata": {
    "colab_type": "text",
    "id": "gvHal3Gjafa_"
   },
   "source": [
    "## 5. Detour: Overfitting, regularisation and dropout\n",
    "\n",
    "This will be the first (and hopefully the only) time when I will divert your attention to a seemingly unrelated topic. It regards a very important pitfall of machine learning---**overfitting** a model to the training data. While this is primarily going to be a major topic of the next tutorial in the series, the negative effects of overfitting will tend to become quite noticeable on the networks like the one we are about to build, and we need to introduce a way to properly protect ourselves against it, before going any further. Luckily, there is a very simple technique we can use.\n",
    "\n",
    "Overfitting corresponds to adapting our model to the training set to such extremes that its generalisation potential (performance on samples outside of the training set) is *severely* limited. In other words, our model might have learned the training set (along with any noise present within it) perfectly, but it has failed to capture the underlying process that generated it. To illustrate, consider a problem of fitting a sine curve, with white additive noise applied to the data points: \n",
    "\n",
    "![](http://perso.mines-paristech.fr/fabien.moutarde/ES_MachineLearning/TP_convNets/plotsin.png)\n",
    "\n",
    "Here we have a training set (denoted by blue circles) derived from the original sine wave, along with some noise. If we fit a degree-3 polynomial to this data, we get a fairly good approximation to the original curve. Someone might argue that a degree-14 polynomial would do better; indeed, given we have 15 points, such a fit would *perfectly* describe the training data. However, in this case, the additional parameters of the model cause catastrophic results: to cope with the inherent noise of the data, anywhere except in the closest vicinity of the training points, our fit is completely off.\n",
    "\n",
    "Deep convolutional neural networks have a large number of parameters, especially in the fully connected layers. Overfitting might often manifest in the following form: if we don't have sufficiently many training examples, a small group of neurons might become responsible for doing most of the processing and other neurons becoming redundant; or in the other extreme, some neurons might actually become detrimental to performance, with several other neurons of their layer ending up doing nothing else but correcting for their errors.\n",
    "\n",
    "To help our models generalise better in these circumstances, we introduce techniques of *regularisation*: rather than reducing the number of parameters, we impose *constraints* on the model parameters during training to keep them from learning the noise in the training data. The particular method I will introduce here is **dropout**---a technique that initially might seem like \"dark magic\", but actually helps to eliminate exactly the failure modes described above. Namely, dropout with parameter $p$ will, within a single training iteration, go through all neurons in a particular layer and, with probability $p$, *completely eliminate them from the network throughout the iteration*. This has the effect of forcing the neural network to cope with *failures*, and not to rely on existence of a particular neuron (or set of neurons)---relying more on a *consensus* of several neurons within a layer. This is a very simple technique that works quite well already for combatting overfitting on its own, without introducing further regularisers. An illustration is given below.\n",
    "\n",
    "![](http://perso.mines-paristech.fr/fabien.moutarde/ES_MachineLearning/TP_convNets/drop.png)"
   ]
  },
  {
   "cell_type": "markdown",
   "metadata": {
    "colab_type": "text",
    "id": "eu5A5Fz_afa_"
   },
   "source": [
    "## 6. Applying a deep CNN to MNIST\n",
    "\n",
    "As this post's objective, we will implement a deep convolutional neural network---and apply it on the MNIST digit recognition classification task.\n"
   ]
  },
  {
   "cell_type": "markdown",
   "metadata": {
    "colab_type": "text",
    "id": "3Bbt9WpRafbB"
   },
   "source": [
    "As already mentioned, a CNN will typically have more hyperparameters than an MLP. For the purposes of this tutorial, we will also stick to \"sensible\" hand-picked values for them, but do still keep in mind that later on I will introduce a more proper method for learning them.\n",
    "\n",
    "The hyperparameters are:\n",
    "- The *batch size*, representing the number of training examples being used simultaneously during a single iteration of the gradient descent algorithm;\n",
    "- The number of *epochs*, representing the number of times the training algorithm will iterate over the entire training set before terminating\\*;\n",
    "- The *kernel sizes* in the convolutional layers;\n",
    "- The *pooling size* in the pooling layers;\n",
    "- The *number of kernels* in the convolutional layers;\n",
    "- The *dropout probability* (we will apply dropout after each pooling, and after the fully connected layer);\n",
    "- The *number of neurons* in the fully connected layer of the MLP.\n",
    "\n",
    "\\* **N.B. here I have set the number of epochs to 100, which might be undesirably slow if you do not have a GPU at your disposal (the convolution layers are going to pose a significant performance bottleneck in this case). You might wish to decrease the epoch count and/or numbers of kernels if you are going to be training the network on a CPU.**\n"
   ]
  },
  {
   "cell_type": "markdown",
   "metadata": {
    "colab_type": "text",
    "id": "i27RHvxSafbE"
   },
   "source": [
    "Modelling time! Our network has an architecture similar to LeNet5 of LeCun (see figure below). It will consist of two consecutive groups of one `Convolution2D` followed by  a `MaxPooling2D` layer. After the first pooling layer, the number of kernels is rougly doubled (in line with the previously mentioned principle of sacrificing height and width for more depth). Afterwards, the output of the second pooling layer is flattened to 1D (via the `Flatten` layer), and passed through one or two fully connected (`Dense`) layers. ReLU activations will once again be used for all layers except the output dense layer, which will use a softmax activation (for purposes of probabilistic classification).\n",
    "\n",
    "![](http://perso.mines-paristech.fr/fabien.moutarde/ES_MachineLearning/TP_convNets/lenet5.png)\n",
    "\n",
    "To regularise our model, a `Dropout` layer is applied after each pooling layer, and after the first `Dense` layer. This is another area where Keras shines compared to other frameworks: it has an internal flag that automatically enables or disables dropout, depending on whether the model is currently used for training or testing.\n",
    "\n",
    "The remainder of the model specification is the following:\n",
    "- We use the *cross-entropy* loss function as the objective to optimise (as its derivation is more appropriate for probabilistic tasks);\n",
    "- We use the [*Adam* optimiser for gradient descent](http://sebastianruder.com/optimizing-gradient-descent/);\n",
    "- We report the *accuracy* of the model (as the dataset is balanced across the ten classes)\\*;\n",
    "- We hold out 10% of the data for validation purposes.\n",
    "\n",
    "\\* To get a feeling for why accuracy might be inappropriate for unbalanced datasets, consider an extreme case where 90% of the test data belongs to class $x$ (this could be, for example, the task of diagnosing patients for an extremely rare disease). In this case, a classifier that just outputs $x$ achieves a seemingly impressive accuracy of 90% on the test data, without really doing any learning/generalisation."
   ]
  },
  {
   "cell_type": "markdown",
   "metadata": {
    "colab_type": "text",
    "id": "W6IvdsLDafbF"
   },
   "source": [
    "This model, possibly after some tweaking of its architectural parameters, should be able to break $99\\%$ accuracy on its **test set** with little to no effort.\n"
   ]
  },
  {
   "cell_type": "markdown",
   "metadata": {
    "colab_type": "text",
    "id": "WzRwr-JPafbI"
   },
   "source": [
    "## 7. Conclusion\n",
    "\n",
    "Throughout this post we have covered the essentials of convolutional neural networks, introduced the problem of overfitting, and made a very brief dent into how it could be rectified via regularisation (by applying dropout) and successfully implemented a two-layer deep CNN (with LeNet like architecture) in Keras, applying it to MNIST, all in under 50 lines of code. \n"
   ]
  },
  {
   "cell_type": "markdown",
   "metadata": {
    "colab_type": "text",
    "id": "NUEvYeYTafbJ"
   },
   "source": [
    "## 8. Just show me the code!"
   ]
  },
  {
   "cell_type": "markdown",
   "metadata": {
    "colab_type": "text",
    "id": "VnhMNn9m6YOP"
   },
   "source": [
    "This code assume your already have installed <code>numpy</code>, <code>keras</code>, <code>tensorflow</code>, ... on your computer. If not, uncomment the adequate lines in the cell below:"
   ]
  },
  {
   "cell_type": "code",
   "execution_count": 1,
   "metadata": {
    "colab": {},
    "colab_type": "code",
    "id": "WBL5Mv9f6YOQ"
   },
   "outputs": [
    {
     "name": "stdout",
     "output_type": "stream",
     "text": [
      "Your python version: 3\n"
     ]
    }
   ],
   "source": [
    "import sys\n",
    "print('Your python version: {}'.format(sys.version_info.major))\n",
    "# Uncomment lines below only if you need them \n",
    "#!{sys.executable} -m pip install -U numpy --user\n",
    "#!{sys.executable} -m pip install -U matplotlib --user\n",
    "#!{sys.executable} -m pip install -U keras --user\n",
    "#!{sys.executable} -m pip install -U tensorflow --user\n",
    "#!{sys.executable} -m pip install -U theano --user"
   ]
  },
  {
   "cell_type": "code",
   "execution_count": 2,
   "metadata": {
    "colab": {},
    "colab_type": "code",
    "id": "n6jy07iiafbO"
   },
   "outputs": [],
   "source": [
    "USE_TENSORFLOW_AS_BACKEND = True\n",
    "FORCE_CPU = False"
   ]
  },
  {
   "cell_type": "code",
   "execution_count": 3,
   "metadata": {
    "colab": {},
    "colab_type": "code",
    "id": "3CIG3aWaafbS"
   },
   "outputs": [],
   "source": [
    "import os\n",
    "import numpy as np\n",
    "from numpy import newaxis\n",
    "import matplotlib.pyplot as plt"
   ]
  },
  {
   "cell_type": "code",
   "execution_count": 4,
   "metadata": {
    "colab": {},
    "colab_type": "code",
    "id": "viqDIqFDafbV"
   },
   "outputs": [],
   "source": [
    "if USE_TENSORFLOW_AS_BACKEND:\n",
    "    os.environ['KERAS_BACKEND'] = 'tensorflow'\n",
    "else:\n",
    "    os.environ['KERAS_BACKEND'] = 'theano'\n",
    "if FORCE_CPU:\n",
    "    os.environ[\"CUDA_DEVICE_ORDER\"] = \"PCI_BUS_ID\"   # see issue #152\n",
    "    os.environ[\"CUDA_VISIBLE_DEVICES\"] = \"\""
   ]
  },
  {
   "cell_type": "code",
   "execution_count": 5,
   "metadata": {
    "colab": {},
    "colab_type": "code",
    "id": "Wje7hPXjafbX"
   },
   "outputs": [
    {
     "name": "stderr",
     "output_type": "stream",
     "text": [
      "Using TensorFlow backend.\n"
     ]
    }
   ],
   "source": [
    "import keras\n",
    "from keras import backend as K\n",
    "from keras import regularizers\n",
    "from keras.datasets import mnist # subroutines for fetching the MNIST dataset\n",
    "from keras.models import Model, Sequential # basic class for specifying and training a neural network\n",
    "from keras.layers import Input, Conv2D, MaxPooling2D, Dense, Dropout, Activation, Flatten\n",
    "from keras.utils import np_utils # utilities for one-hot encoding of ground truth values"
   ]
  },
  {
   "cell_type": "code",
   "execution_count": 6,
   "metadata": {
    "colab": {},
    "colab_type": "code",
    "id": "Tgh1iZr-afba"
   },
   "outputs": [],
   "source": [
    "if USE_TENSORFLOW_AS_BACKEND:\n",
    "    K.set_image_dim_ordering('tf')\n",
    "else:\n",
    "    K.set_image_dim_ordering('th')"
   ]
  },
  {
   "cell_type": "code",
   "execution_count": 7,
   "metadata": {
    "colab": {},
    "colab_type": "code",
    "id": "jRM8mmQyafbe"
   },
   "outputs": [
    {
     "name": "stdout",
     "output_type": "stream",
     "text": [
      "Your keras version: 2.2.4\n",
      "Your tensorflow version: 1.13.1\n"
     ]
    }
   ],
   "source": [
    "print('Your keras version: {}'.format(keras.__version__))\n",
    "if USE_TENSORFLOW_AS_BACKEND == True:\n",
    "    import tensorflow\n",
    "    print('Your tensorflow version: {}'.format(tensorflow.__version__))\n",
    "else:\n",
    "    import theano\n",
    "    print('Your theano version: {}'.format(theano.__version__))"
   ]
  },
  {
   "cell_type": "code",
   "execution_count": 11,
   "metadata": {
    "colab": {},
    "colab_type": "code",
    "id": "-PsRmEbZafbi",
    "scrolled": true
   },
   "outputs": [
    {
     "name": "stdout",
     "output_type": "stream",
     "text": [
      "(60000, 1, 28, 28) (60000, 10)\n"
     ]
    }
   ],
   "source": [
    "# --------------------------------------\n",
    "# Dataset variables\n",
    "# --------------------------------------\n",
    "num_train = 60000 # there are 60000 training examples in MNIST\n",
    "num_test = 10000  # there are 10000 test examples in MNIST\n",
    "height, width, depth = 28, 28, 1 # MNIST images are 28x28 with 1 channel (greyscale)\n",
    "num_classes = 10                 # there are 10 classes (1 per digit)\n",
    "\n",
    "# --------------------------------------\n",
    "# Dataset loading & preprocessing\n",
    "# --------------------------------------\n",
    "(X_train, y_train), (X_test, y_test) = mnist.load_data() # fetch MNIST data\n",
    "\n",
    "X_train = X_train.astype('float32') \n",
    "X_test = X_test.astype('float32')\n",
    "X_train /= 255 # Normalise data to [0, 1] range\n",
    "X_test /= 255 # Normalise data to [0, 1] range\n",
    "\n",
    "X_train = X_train[:, newaxis, :, :] # Reshape in \"convolutionable\" format (add tensor dim for the depth)\n",
    "X_test = X_test[:, newaxis, :, :] # Reshape in \"convolutionable\" format (add tensor dim for the depth)\n",
    "\n",
    "Y_train = np_utils.to_categorical(y_train, num_classes) # One-hot encode the labels\n",
    "Y_test = np_utils.to_categorical(y_test, num_classes) # One-hot encode the labels\n",
    "\n",
    "print(X_train.shape, Y_train.shape)"
   ]
  },
  {
   "cell_type": "code",
   "execution_count": 9,
   "metadata": {
    "colab": {},
    "colab_type": "code",
    "id": "YU9Q3hsmafbk",
    "scrolled": true
   },
   "outputs": [
    {
     "name": "stdout",
     "output_type": "stream",
     "text": [
      "WARNING:tensorflow:From /Users/barth/Library/Python/3.7/lib/python/site-packages/tensorflow/python/framework/op_def_library.py:263: colocate_with (from tensorflow.python.framework.ops) is deprecated and will be removed in a future version.\n",
      "Instructions for updating:\n",
      "Colocations handled automatically by placer.\n",
      "_________________________________________________________________\n",
      "Layer (type)                 Output Shape              Param #   \n",
      "=================================================================\n",
      "conv2d_1 (Conv2D)            (None, 6, 28, 28)         156       \n",
      "_________________________________________________________________\n",
      "max_pooling2d_1 (MaxPooling2 (None, 3, 14, 28)         0         \n",
      "_________________________________________________________________\n",
      "dropout_1 (Dropout)          (None, 3, 14, 28)         0         \n",
      "_________________________________________________________________\n",
      "conv2d_2 (Conv2D)            (None, 3, 14, 16)         11216     \n",
      "_________________________________________________________________\n",
      "max_pooling2d_2 (MaxPooling2 (None, 1, 7, 16)          0         \n",
      "_________________________________________________________________\n",
      "dropout_2 (Dropout)          (None, 1, 7, 16)          0         \n",
      "_________________________________________________________________\n",
      "flatten_1 (Flatten)          (None, 112)               0         \n",
      "_________________________________________________________________\n",
      "dense_1 (Dense)              (None, 128)               14464     \n",
      "_________________________________________________________________\n",
      "dropout_3 (Dropout)          (None, 128)               0         \n",
      "_________________________________________________________________\n",
      "dense_2 (Dense)              (None, 10)                1290      \n",
      "=================================================================\n",
      "Total params: 27,126\n",
      "Trainable params: 27,126\n",
      "Non-trainable params: 0\n",
      "_________________________________________________________________\n",
      "None\n"
     ]
    },
    {
     "name": "stderr",
     "output_type": "stream",
     "text": [
      "/usr/local/lib/python3.7/site-packages/ipykernel_launcher.py:24: UserWarning: Update your `Conv2D` call to the Keras 2 API: `Conv2D(6, (5, 5), activation=\"relu\", data_format=\"channels_first\", input_shape=(1, 28, 28..., padding=\"same\")`\n",
      "/usr/local/lib/python3.7/site-packages/ipykernel_launcher.py:29: UserWarning: Update your `Conv2D` call to the Keras 2 API: `Conv2D(16, (5, 5), activation=\"relu\", padding=\"same\")`\n"
     ]
    }
   ],
   "source": [
    "# --------------------------------------\n",
    "# Network params\n",
    "# --------------------------------------\n",
    "# Network params\n",
    "batch_size = 32    # in each iteration, we consider 32 training examples at once\n",
    "num_epochs = 20    # we iterate 20 times over the entire training set\n",
    "kernel_size = 5    # we will use 5x5 kernels throughout\n",
    "pool_size = 2      # we will use 2x2 pooling throughout\n",
    "conv_depth_1 = 6   # we will initially have 6 kernels in first conv. layer...\n",
    "conv_depth_2 = 16  # ...switching to 16 after the first pooling layer\n",
    "drop_prob_1 = 0.   # dropout after pooling with probability 0.\n",
    "drop_prob_2 = 0.   # dropout in the FC layer with probability 0.\n",
    "hidden_size = 128  # the FC layer will have 128neurons\n",
    "weight_penalty = 0. # Factor for weights penalty\n",
    "\n",
    "# --------------------------------------\n",
    "# CNN network definition\n",
    "# --------------------------------------\n",
    "# inp = Input(shape=(1,height,width)) # greyscale --> depth==1\n",
    "# model = Model(input=inp, output=out) # To define a model, just specify its input and output layers\n",
    "\n",
    "model = Sequential()\n",
    "# Conv [8] -> Pool (with dropout on the pooling layer)\n",
    "model.add( Conv2D(conv_depth_1, (kernel_size,kernel_size), border_mode='same', activation='relu', data_format=\"channels_first\", input_shape=( 1, 28, 28)) )\n",
    "model.add( MaxPooling2D(pool_size=(pool_size, pool_size)) )\n",
    "model.add( Dropout(drop_prob_1) )\n",
    "\n",
    "# Conv [16] -> Pool (with dropout on the pooling layer)\n",
    "model.add( Conv2D(conv_depth_2, (kernel_size,kernel_size), border_mode='same', activation='relu') )\n",
    "model.add( MaxPooling2D(pool_size=(pool_size, pool_size)) )\n",
    "model.add( Dropout(drop_prob_1) )\n",
    "\n",
    "# Now flatten to 1D, apply FC -> ReLU (with dropout) -> softmax\n",
    "model.add( Flatten() )\n",
    "model.add( Dense(hidden_size, activation='relu', kernel_regularizer=regularizers.l2(weight_penalty)) )\n",
    "model.add( Dropout(drop_prob_2) )\n",
    "model.add( Dense(num_classes, activation='softmax') )\n",
    "\n",
    "print(model.summary())"
   ]
  },
  {
   "cell_type": "code",
   "execution_count": 12,
   "metadata": {
    "colab": {},
    "colab_type": "code",
    "id": "tGoXjiL8afbm",
    "scrolled": true
   },
   "outputs": [
    {
     "name": "stderr",
     "output_type": "stream",
     "text": [
      "/usr/local/lib/python3.7/site-packages/ipykernel_launcher.py:13: UserWarning: The `nb_epoch` argument in `fit` has been renamed `epochs`.\n",
      "  del sys.path[0]\n"
     ]
    },
    {
     "name": "stdout",
     "output_type": "stream",
     "text": [
      "Train on 36000 samples, validate on 24000 samples\n",
      "Epoch 1/20\n",
      "36000/36000 [==============================] - 26s 717us/step - loss: 0.0106 - acc: 0.9961 - val_loss: 0.0909 - val_acc: 0.9809\n",
      "Epoch 2/20\n",
      "36000/36000 [==============================] - 25s 698us/step - loss: 0.0099 - acc: 0.9965 - val_loss: 0.1013 - val_acc: 0.9801\n",
      "Epoch 3/20\n",
      "36000/36000 [==============================] - 24s 662us/step - loss: 0.0091 - acc: 0.9970 - val_loss: 0.0945 - val_acc: 0.9808\n",
      "Epoch 4/20\n",
      "36000/36000 [==============================] - 25s 691us/step - loss: 0.0091 - acc: 0.9967 - val_loss: 0.1039 - val_acc: 0.9799\n",
      "Epoch 5/20\n",
      "36000/36000 [==============================] - 31s 859us/step - loss: 0.0083 - acc: 0.9972 - val_loss: 0.1111 - val_acc: 0.9785\n",
      "Epoch 6/20\n",
      "36000/36000 [==============================] - 27s 747us/step - loss: 0.0062 - acc: 0.9981 - val_loss: 0.1040 - val_acc: 0.9811\n",
      "Epoch 7/20\n",
      "36000/36000 [==============================] - 30s 827us/step - loss: 0.0114 - acc: 0.9961 - val_loss: 0.1007 - val_acc: 0.9813\n",
      "Epoch 8/20\n",
      "36000/36000 [==============================] - 26s 718us/step - loss: 0.0038 - acc: 0.9985 - val_loss: 0.1103 - val_acc: 0.9810\n",
      "Epoch 9/20\n",
      "36000/36000 [==============================] - 28s 766us/step - loss: 0.0091 - acc: 0.9970 - val_loss: 0.1188 - val_acc: 0.9792\n",
      "Epoch 10/20\n",
      "36000/36000 [==============================] - 33s 905us/step - loss: 0.0071 - acc: 0.9975 - val_loss: 0.0983 - val_acc: 0.9834\n",
      "Epoch 11/20\n",
      "36000/36000 [==============================] - 27s 747us/step - loss: 0.0055 - acc: 0.9981 - val_loss: 0.1319 - val_acc: 0.9786\n",
      "Epoch 12/20\n",
      "36000/36000 [==============================] - 30s 821us/step - loss: 0.0094 - acc: 0.9971 - val_loss: 0.1080 - val_acc: 0.9806\n",
      "Epoch 13/20\n",
      "36000/36000 [==============================] - 29s 807us/step - loss: 0.0081 - acc: 0.9972 - val_loss: 0.1211 - val_acc: 0.9800\n",
      "Epoch 14/20\n",
      "36000/36000 [==============================] - 31s 858us/step - loss: 0.0036 - acc: 0.9989 - val_loss: 0.1208 - val_acc: 0.9806\n",
      "Epoch 15/20\n",
      "36000/36000 [==============================] - 25s 681us/step - loss: 0.0079 - acc: 0.9978 - val_loss: 0.1326 - val_acc: 0.9792\n",
      "Epoch 16/20\n",
      "36000/36000 [==============================] - 26s 731us/step - loss: 0.0062 - acc: 0.9982 - val_loss: 0.1237 - val_acc: 0.9795\n",
      "Epoch 17/20\n",
      "36000/36000 [==============================] - 30s 824us/step - loss: 0.0067 - acc: 0.9977 - val_loss: 0.1227 - val_acc: 0.9812\n",
      "Epoch 18/20\n",
      "36000/36000 [==============================] - 28s 783us/step - loss: 0.0068 - acc: 0.9976 - val_loss: 0.1025 - val_acc: 0.9830\n",
      "Epoch 19/20\n",
      "36000/36000 [==============================] - 27s 757us/step - loss: 0.0059 - acc: 0.9981 - val_loss: 0.1205 - val_acc: 0.9819\n",
      "Epoch 20/20\n",
      "36000/36000 [==============================] - 28s 775us/step - loss: 0.0042 - acc: 0.9988 - val_loss: 0.1194 - val_acc: 0.9818\n",
      "10000/10000 [==============================] - 2s 235us/step\n",
      "The final loss on the test set is: 0.08.\n",
      "The final acc on the test set is: 0.99.\n"
     ]
    }
   ],
   "source": [
    "# --------------------------------------\n",
    "# Loss function and Optimizer\n",
    "# --------------------------------------\n",
    "model.compile(loss='categorical_crossentropy', # using the cross-entropy loss function\n",
    "              optimizer='adam', # using the Adam optimiser\n",
    "              metrics=['accuracy']) # reporting the accuracy\n",
    "\n",
    "# --------------------------------------\n",
    "# Training\n",
    "# --------------------------------------\n",
    "history = model.fit(X_train, Y_train, # Train the model using the training set...\n",
    "          batch_size=batch_size, nb_epoch=num_epochs,\n",
    "          verbose=1, validation_split=0.4) # ...holding out 40% of the data for validation\n",
    "\n",
    "# --------------------------------------\n",
    "# Evaluation\n",
    "# --------------------------------------\n",
    "for loss_name, loss_value in list(zip(model.metrics_names, model.evaluate(X_test, Y_test, verbose=1))):\n",
    "    print('The final {} on the test set is: {:.2f}.'.format(loss_name, loss_value)) # Evaluate the trained model on the test set!"
   ]
  },
  {
   "cell_type": "markdown",
   "metadata": {
    "colab_type": "text",
    "id": "2-Tm9hsmGk0F"
   },
   "source": [
    "**Plot the training history, in order to check if overfitting seems to have occured or not, and if more training epochs could be performed.**\n"
   ]
  },
  {
   "cell_type": "code",
   "execution_count": 13,
   "metadata": {
    "colab": {},
    "colab_type": "code",
    "id": "4RJwykPsbrJ2"
   },
   "outputs": [
    {
     "data": {
      "image/png": "[encoded data removed]",
      "text/plain": [
       "<Figure size 432x288 with 1 Axes>"
      ]
     },
     "metadata": {
      "needs_background": "light"
     },
     "output_type": "display_data"
    }
   ],
   "source": [
    "# --------------------------------------\n",
    "# Loss functions evolution\n",
    "# --------------------------------------\n",
    "plt.plot(history.history['loss'])\n",
    "plt.plot(history.history['val_loss'])\n",
    "plt.title('Model loss by epoch')\n",
    "plt.ylabel('loss')\n",
    "plt.xlabel('epoch')\n",
    "plt.legend(['train', 'test'], loc='right')\n",
    "plt.show()\n",
    "\n"
   ]
  },
  {
   "cell_type": "markdown",
   "metadata": {
    "colab_type": "text",
    "id": "kzWPQqnOGu90"
   },
   "source": [
    "**You should see that over-fitting begins to occur.\n",
    "\n",
    "__Question 1:__ WHAT IS THE SIGN OF OVER-FITTING ON ABOVE GRAPH?\n",
    "\n",
    "__Answer:__ Il y a de l'overfitting car on constate que l'erreur diminue sur le banc d'entrainement mais elle augmente sur le banc de test. C'est le signe que le modèle a trop appris.\n",
    "\n",
    "**There are 2 different methods that can be used to prevent over-fitting.\n",
    "\n",
    "__Question 2:__ WHAT ARE THOSE 2 OVER-FITTING PREVENTION METHODS?\n",
    "\n",
    "__Answer :__ Les 2 méthodes sont de mettre un dropout ou une pénalité de poids.\n",
    "\n",
    "**Test those 2 methods SEPARATELY below, by copy-pasting the original code, modifying it, and running it. **"
   ]
  },
  {
   "cell_type": "code",
   "execution_count": 14,
   "metadata": {
    "colab": {},
    "colab_type": "code",
    "id": "6VwKmaWQGy9U"
   },
   "outputs": [
    {
     "name": "stdout",
     "output_type": "stream",
     "text": [
      "WARNING:tensorflow:From /Users/barth/Library/Python/3.7/lib/python/site-packages/keras/backend/tensorflow_backend.py:3445: calling dropout (from tensorflow.python.ops.nn_ops) with keep_prob is deprecated and will be removed in a future version.\n",
      "Instructions for updating:\n",
      "Please use `rate` instead of `keep_prob`. Rate should be set to `rate = 1 - keep_prob`.\n"
     ]
    },
    {
     "name": "stderr",
     "output_type": "stream",
     "text": [
      "/usr/local/lib/python3.7/site-packages/ipykernel_launcher.py:24: UserWarning: Update your `Conv2D` call to the Keras 2 API: `Conv2D(6, (5, 5), activation=\"relu\", data_format=\"channels_first\", input_shape=(1, 28, 28..., padding=\"same\")`\n",
      "WARNING:tensorflow:From /Users/barth/Library/Python/3.7/lib/python/site-packages/keras/backend/tensorflow_backend.py:3445: calling dropout (from tensorflow.python.ops.nn_ops) with keep_prob is deprecated and will be removed in a future version.\n",
      "Instructions for updating:\n",
      "Please use `rate` instead of `keep_prob`. Rate should be set to `rate = 1 - keep_prob`.\n",
      "/usr/local/lib/python3.7/site-packages/ipykernel_launcher.py:29: UserWarning: Update your `Conv2D` call to the Keras 2 API: `Conv2D(16, (5, 5), activation=\"relu\", padding=\"same\")`\n"
     ]
    },
    {
     "name": "stdout",
     "output_type": "stream",
     "text": [
      "_________________________________________________________________\n",
      "Layer (type)                 Output Shape              Param #   \n",
      "=================================================================\n",
      "conv2d_3 (Conv2D)            (None, 6, 28, 28)         156       \n",
      "_________________________________________________________________\n",
      "max_pooling2d_3 (MaxPooling2 (None, 3, 14, 28)         0         \n",
      "_________________________________________________________________\n",
      "dropout_4 (Dropout)          (None, 3, 14, 28)         0         \n",
      "_________________________________________________________________\n",
      "conv2d_4 (Conv2D)            (None, 3, 14, 16)         11216     \n",
      "_________________________________________________________________\n",
      "max_pooling2d_4 (MaxPooling2 (None, 1, 7, 16)          0         \n",
      "_________________________________________________________________\n",
      "dropout_5 (Dropout)          (None, 1, 7, 16)          0         \n",
      "_________________________________________________________________\n",
      "flatten_2 (Flatten)          (None, 112)               0         \n",
      "_________________________________________________________________\n",
      "dense_3 (Dense)              (None, 128)               14464     \n",
      "_________________________________________________________________\n",
      "dropout_6 (Dropout)          (None, 128)               0         \n",
      "_________________________________________________________________\n",
      "dense_4 (Dense)              (None, 10)                1290      \n",
      "=================================================================\n",
      "Total params: 27,126\n",
      "Trainable params: 27,126\n",
      "Non-trainable params: 0\n",
      "_________________________________________________________________\n",
      "None\n"
     ]
    },
    {
     "name": "stderr",
     "output_type": "stream",
     "text": [
      "/usr/local/lib/python3.7/site-packages/ipykernel_launcher.py:53: UserWarning: The `nb_epoch` argument in `fit` has been renamed `epochs`.\n"
     ]
    },
    {
     "name": "stdout",
     "output_type": "stream",
     "text": [
      "Train on 36000 samples, validate on 24000 samples\n",
      "Epoch 1/20\n",
      "36000/36000 [==============================] - 34s 956us/step - loss: 0.7810 - acc: 0.7439 - val_loss: 0.2041 - val_acc: 0.9427\n",
      "Epoch 2/20\n",
      "36000/36000 [==============================] - 33s 904us/step - loss: 0.3880 - acc: 0.8774 - val_loss: 0.1420 - val_acc: 0.9576\n",
      "Epoch 3/20\n",
      "36000/36000 [==============================] - 25s 692us/step - loss: 0.3243 - acc: 0.8990 - val_loss: 0.1240 - val_acc: 0.9655\n",
      "Epoch 4/20\n",
      "36000/36000 [==============================] - 27s 763us/step - loss: 0.2815 - acc: 0.9132 - val_loss: 0.1052 - val_acc: 0.9686\n",
      "Epoch 5/20\n",
      "36000/36000 [==============================] - 34s 950us/step - loss: 0.2535 - acc: 0.9215 - val_loss: 0.0965 - val_acc: 0.9712\n",
      "Epoch 6/20\n",
      "36000/36000 [==============================] - 38s 1ms/step - loss: 0.2374 - acc: 0.9260 - val_loss: 0.0891 - val_acc: 0.9730\n",
      "Epoch 7/20\n",
      "36000/36000 [==============================] - 38s 1ms/step - loss: 0.2216 - acc: 0.9313 - val_loss: 0.0840 - val_acc: 0.9752\n",
      "Epoch 8/20\n",
      "36000/36000 [==============================] - 29s 792us/step - loss: 0.2170 - acc: 0.9320 - val_loss: 0.0777 - val_acc: 0.9765\n",
      "Epoch 9/20\n",
      "36000/36000 [==============================] - 23s 632us/step - loss: 0.2093 - acc: 0.9343 - val_loss: 0.0782 - val_acc: 0.9761\n",
      "Epoch 10/20\n",
      "36000/36000 [==============================] - 20s 557us/step - loss: 0.2015 - acc: 0.9380 - val_loss: 0.0705 - val_acc: 0.9783\n",
      "Epoch 11/20\n",
      "36000/36000 [==============================] - 22s 611us/step - loss: 0.1965 - acc: 0.9397 - val_loss: 0.0769 - val_acc: 0.9769\n",
      "Epoch 12/20\n",
      "36000/36000 [==============================] - 25s 687us/step - loss: 0.1903 - acc: 0.9409 - val_loss: 0.0702 - val_acc: 0.9790\n",
      "Epoch 13/20\n",
      "36000/36000 [==============================] - 25s 691us/step - loss: 0.1825 - acc: 0.9438 - val_loss: 0.0686 - val_acc: 0.9794\n",
      "Epoch 14/20\n",
      "36000/36000 [==============================] - 31s 858us/step - loss: 0.1820 - acc: 0.9427 - val_loss: 0.0657 - val_acc: 0.9799\n",
      "Epoch 15/20\n",
      "36000/36000 [==============================] - 39s 1ms/step - loss: 0.1747 - acc: 0.9444 - val_loss: 0.0643 - val_acc: 0.9798\n",
      "Epoch 16/20\n",
      "36000/36000 [==============================] - 20s 557us/step - loss: 0.1758 - acc: 0.9452 - val_loss: 0.0643 - val_acc: 0.9799\n",
      "Epoch 17/20\n",
      "36000/36000 [==============================] - 22s 616us/step - loss: 0.1773 - acc: 0.9458 - val_loss: 0.0660 - val_acc: 0.9805\n",
      "Epoch 18/20\n",
      "36000/36000 [==============================] - 20s 557us/step - loss: 0.1711 - acc: 0.9474 - val_loss: 0.0608 - val_acc: 0.9807\n",
      "Epoch 19/20\n",
      "36000/36000 [==============================] - 20s 552us/step - loss: 0.1694 - acc: 0.9476 - val_loss: 0.0671 - val_acc: 0.9799\n",
      "Epoch 20/20\n",
      "36000/36000 [==============================] - 20s 554us/step - loss: 0.1694 - acc: 0.9472 - val_loss: 0.0638 - val_acc: 0.9798\n",
      "10000/10000 [==============================] - 2s 218us/step\n",
      "The final loss on the test set is: 0.05.\n",
      "The final acc on the test set is: 0.98.\n"
     ]
    },
    {
     "data": {
      "image/png": "[encoded data removed]",
      "text/plain": [
       "<Figure size 432x288 with 1 Axes>"
      ]
     },
     "metadata": {
      "needs_background": "light"
     },
     "output_type": "display_data"
    }
   ],
   "source": [
    "# --------------------------------------\n",
    "# Network params\n",
    "# --------------------------------------\n",
    "# Network params\n",
    "batch_size = 32    # in each iteration, we consider 32 training examples at once\n",
    "num_epochs = 20    # we iterate 20 times over the entire training set\n",
    "kernel_size = 5    # we will use 5x5 kernels throughout\n",
    "pool_size = 2      # we will use 2x2 pooling throughout\n",
    "conv_depth_1 = 6   # we will initially have 6 kernels in first conv. layer...\n",
    "conv_depth_2 = 16  # ...switching to 16 after the first pooling layer\n",
    "drop_prob_1 = 0.4   # dropout after pooling with probability 0.2\n",
    "drop_prob_2 = 0.4   # dropout in the FC layer with probability 0.2\n",
    "hidden_size = 128  # the FC layer will have 128neurons\n",
    "weight_penalty = 0. # Factor for weights penalty\n",
    "\n",
    "# --------------------------------------\n",
    "# CNN network definition\n",
    "# --------------------------------------\n",
    "# inp = Input(shape=(1,height,width)) # greyscale --> depth==1\n",
    "# model = Model(input=inp, output=out) # To define a model, just specify its input and output layers\n",
    "\n",
    "model = Sequential()\n",
    "# Conv [8] -> Pool (with dropout on the pooling layer)\n",
    "model.add( Conv2D(conv_depth_1, (kernel_size,kernel_size), border_mode='same', activation='relu', data_format=\"channels_first\", input_shape=( 1, 28, 28)) )\n",
    "model.add( MaxPooling2D(pool_size=(pool_size, pool_size)) )\n",
    "model.add( Dropout(drop_prob_1) )\n",
    "\n",
    "# Conv [16] -> Pool (with dropout on the pooling layer)\n",
    "model.add( Conv2D(conv_depth_2, (kernel_size,kernel_size), border_mode='same', activation='relu') )\n",
    "model.add( MaxPooling2D(pool_size=(pool_size, pool_size)) )\n",
    "model.add( Dropout(drop_prob_1) )\n",
    "\n",
    "# Now flatten to 1D, apply FC -> ReLU (with dropout) -> softmax\n",
    "model.add( Flatten() )\n",
    "model.add( Dense(hidden_size, activation='relu', kernel_regularizer=regularizers.l2(weight_penalty)) )\n",
    "model.add( Dropout(drop_prob_2) )\n",
    "model.add( Dense(num_classes, activation='softmax') )\n",
    "\n",
    "print(model.summary())\n",
    "\n",
    "# --------------------------------------\n",
    "# Loss function and Optimizer\n",
    "# --------------------------------------\n",
    "model.compile(loss='categorical_crossentropy', # using the cross-entropy loss function\n",
    "              optimizer='adam', # using the Adam optimiser\n",
    "              metrics=['accuracy']) # reporting the accuracy\n",
    "\n",
    "# --------------------------------------\n",
    "# Training\n",
    "# --------------------------------------\n",
    "history = model.fit(X_train, Y_train, # Train the model using the training set...\n",
    "          batch_size=batch_size, nb_epoch=num_epochs,\n",
    "          verbose=1, validation_split=0.4) # ...holding out 40% of the data for validation\n",
    "\n",
    "# --------------------------------------\n",
    "# Evaluation\n",
    "# --------------------------------------\n",
    "for loss_name, loss_value in list(zip(model.metrics_names, model.evaluate(X_test, Y_test, verbose=1))):\n",
    "    print('The final {} on the test set is: {:.2f}.'.format(loss_name, loss_value)) # Evaluate the trained model on the test set!\n",
    "    \n",
    "# --------------------------------------\n",
    "# Loss functions evolution\n",
    "# --------------------------------------\n",
    "plt.plot(history.history['loss'])\n",
    "plt.plot(history.history['val_loss'])\n",
    "plt.title('Model loss by epoch')\n",
    "plt.ylabel('loss')\n",
    "plt.xlabel('epoch')\n",
    "plt.legend(['train', 'test'], loc='right')\n",
    "plt.show()"
   ]
  },
  {
   "cell_type": "code",
   "execution_count": 15,
   "metadata": {},
   "outputs": [
    {
     "name": "stderr",
     "output_type": "stream",
     "text": [
      "/usr/local/lib/python3.7/site-packages/ipykernel_launcher.py:24: UserWarning: Update your `Conv2D` call to the Keras 2 API: `Conv2D(6, (5, 5), activation=\"relu\", data_format=\"channels_first\", input_shape=(1, 28, 28..., padding=\"same\")`\n",
      "/usr/local/lib/python3.7/site-packages/ipykernel_launcher.py:29: UserWarning: Update your `Conv2D` call to the Keras 2 API: `Conv2D(16, (5, 5), activation=\"relu\", padding=\"same\")`\n"
     ]
    },
    {
     "name": "stdout",
     "output_type": "stream",
     "text": [
      "_________________________________________________________________\n",
      "Layer (type)                 Output Shape              Param #   \n",
      "=================================================================\n",
      "conv2d_5 (Conv2D)            (None, 6, 28, 28)         156       \n",
      "_________________________________________________________________\n",
      "max_pooling2d_5 (MaxPooling2 (None, 3, 14, 28)         0         \n",
      "_________________________________________________________________\n",
      "dropout_7 (Dropout)          (None, 3, 14, 28)         0         \n",
      "_________________________________________________________________\n",
      "conv2d_6 (Conv2D)            (None, 3, 14, 16)         11216     \n",
      "_________________________________________________________________\n",
      "max_pooling2d_6 (MaxPooling2 (None, 1, 7, 16)          0         \n",
      "_________________________________________________________________\n",
      "dropout_8 (Dropout)          (None, 1, 7, 16)          0         \n",
      "_________________________________________________________________\n",
      "flatten_3 (Flatten)          (None, 112)               0         \n",
      "_________________________________________________________________\n",
      "dense_5 (Dense)              (None, 128)               14464     \n",
      "_________________________________________________________________\n",
      "dropout_9 (Dropout)          (None, 128)               0         \n",
      "_________________________________________________________________\n",
      "dense_6 (Dense)              (None, 10)                1290      \n",
      "=================================================================\n",
      "Total params: 27,126\n",
      "Trainable params: 27,126\n",
      "Non-trainable params: 0\n",
      "_________________________________________________________________\n",
      "None\n"
     ]
    },
    {
     "name": "stderr",
     "output_type": "stream",
     "text": [
      "/usr/local/lib/python3.7/site-packages/ipykernel_launcher.py:53: UserWarning: The `nb_epoch` argument in `fit` has been renamed `epochs`.\n"
     ]
    },
    {
     "name": "stdout",
     "output_type": "stream",
     "text": [
      "Train on 36000 samples, validate on 24000 samples\n",
      "Epoch 1/20\n",
      "36000/36000 [==============================] - 33s 923us/step - loss: 2.1452 - acc: 0.8580 - val_loss: 0.3943 - val_acc: 0.9221\n",
      "Epoch 2/20\n",
      "36000/36000 [==============================] - 19s 542us/step - loss: 0.3438 - acc: 0.9346 - val_loss: 0.3449 - val_acc: 0.9313\n",
      "Epoch 3/20\n",
      "36000/36000 [==============================] - 19s 535us/step - loss: 0.3054 - acc: 0.9420 - val_loss: 0.3490 - val_acc: 0.9234\n",
      "Epoch 4/20\n",
      "36000/36000 [==============================] - 19s 537us/step - loss: 0.2819 - acc: 0.9473 - val_loss: 0.2571 - val_acc: 0.9539\n",
      "Epoch 5/20\n",
      "36000/36000 [==============================] - 19s 538us/step - loss: 0.2542 - acc: 0.9540 - val_loss: 0.2838 - val_acc: 0.9417\n",
      "Epoch 6/20\n",
      "36000/36000 [==============================] - 20s 564us/step - loss: 0.2445 - acc: 0.9560 - val_loss: 0.2350 - val_acc: 0.9628\n",
      "Epoch 7/20\n",
      "36000/36000 [==============================] - 19s 535us/step - loss: 0.2355 - acc: 0.9581 - val_loss: 0.2508 - val_acc: 0.9517\n",
      "Epoch 8/20\n",
      "36000/36000 [==============================] - 24s 653us/step - loss: 0.2216 - acc: 0.9604 - val_loss: 0.2100 - val_acc: 0.9600\n",
      "Epoch 9/20\n",
      "36000/36000 [==============================] - 31s 873us/step - loss: 0.2096 - acc: 0.9629 - val_loss: 0.2038 - val_acc: 0.9657\n",
      "Epoch 10/20\n",
      "36000/36000 [==============================] - 40s 1ms/step - loss: 0.2024 - acc: 0.9639 - val_loss: 0.2425 - val_acc: 0.9552\n",
      "Epoch 11/20\n",
      "36000/36000 [==============================] - 35s 976us/step - loss: 0.1996 - acc: 0.9642 - val_loss: 0.2247 - val_acc: 0.9583\n",
      "Epoch 12/20\n",
      "36000/36000 [==============================] - 29s 815us/step - loss: 0.1881 - acc: 0.9667 - val_loss: 0.1904 - val_acc: 0.9663\n",
      "Epoch 13/20\n",
      "36000/36000 [==============================] - 25s 687us/step - loss: 0.1867 - acc: 0.9662 - val_loss: 0.1824 - val_acc: 0.9680\n",
      "Epoch 14/20\n",
      "36000/36000 [==============================] - 22s 618us/step - loss: 0.1756 - acc: 0.9694 - val_loss: 0.2047 - val_acc: 0.9586\n",
      "Epoch 15/20\n",
      "36000/36000 [==============================] - 22s 620us/step - loss: 0.1743 - acc: 0.9685 - val_loss: 0.1877 - val_acc: 0.9652\n",
      "Epoch 16/20\n",
      "36000/36000 [==============================] - 38s 1ms/step - loss: 0.1700 - acc: 0.9700 - val_loss: 0.1788 - val_acc: 0.9669\n",
      "Epoch 17/20\n",
      "36000/36000 [==============================] - 22s 619us/step - loss: 0.1664 - acc: 0.9706 - val_loss: 0.1958 - val_acc: 0.9605\n",
      "Epoch 18/20\n",
      "36000/36000 [==============================] - 23s 639us/step - loss: 0.1606 - acc: 0.9714 - val_loss: 0.1698 - val_acc: 0.9687\n",
      "Epoch 19/20\n",
      "36000/36000 [==============================] - 29s 809us/step - loss: 0.1591 - acc: 0.9713 - val_loss: 0.1752 - val_acc: 0.9684\n",
      "Epoch 20/20\n",
      "36000/36000 [==============================] - 28s 772us/step - loss: 0.1509 - acc: 0.9741 - val_loss: 0.1742 - val_acc: 0.9677\n",
      "10000/10000 [==============================] - 3s 275us/step\n",
      "The final loss on the test set is: 0.16.\n",
      "The final acc on the test set is: 0.97.\n"
     ]
    },
    {
     "data": {
      "image/png": "[encoded data removed]",
      "text/plain": [
       "<Figure size 432x288 with 1 Axes>"
      ]
     },
     "metadata": {
      "needs_background": "light"
     },
     "output_type": "display_data"
    }
   ],
   "source": [
    "# --------------------------------------\n",
    "# Network params\n",
    "# --------------------------------------\n",
    "# Network params\n",
    "batch_size = 32    # in each iteration, we consider 32 training examples at once\n",
    "num_epochs = 20    # we iterate 20 times over the entire training set\n",
    "kernel_size = 5    # we will use 5x5 kernels throughout\n",
    "pool_size = 2      # we will use 2x2 pooling throughout\n",
    "conv_depth_1 = 6   # we will initially have 6 kernels in first conv. layer...\n",
    "conv_depth_2 = 16  # ...switching to 16 after the first pooling layer\n",
    "drop_prob_1 = 0.   # dropout after pooling with probability 0.2\n",
    "drop_prob_2 = 0.   # dropout in the FC layer with probability 0.2\n",
    "hidden_size = 128  # the FC layer will have 128neurons\n",
    "weight_penalty = 0.3 # Factor for weights penalty\n",
    "\n",
    "# --------------------------------------\n",
    "# CNN network definition\n",
    "# --------------------------------------\n",
    "# inp = Input(shape=(1,height,width)) # greyscale --> depth==1\n",
    "# model = Model(input=inp, output=out) # To define a model, just specify its input and output layers\n",
    "\n",
    "model = Sequential()\n",
    "# Conv [8] -> Pool (with dropout on the pooling layer)\n",
    "model.add( Conv2D(conv_depth_1, (kernel_size,kernel_size), border_mode='same', activation='relu', data_format=\"channels_first\", input_shape=( 1, 28, 28)) )\n",
    "model.add( MaxPooling2D(pool_size=(pool_size, pool_size)) )\n",
    "model.add( Dropout(drop_prob_1) )\n",
    "\n",
    "# Conv [16] -> Pool (with dropout on the pooling layer)\n",
    "model.add( Conv2D(conv_depth_2, (kernel_size,kernel_size), border_mode='same', activation='relu') )\n",
    "model.add( MaxPooling2D(pool_size=(pool_size, pool_size)) )\n",
    "model.add( Dropout(drop_prob_1) )\n",
    "\n",
    "# Now flatten to 1D, apply FC -> ReLU (with dropout) -> softmax\n",
    "model.add( Flatten() )\n",
    "model.add( Dense(hidden_size, activation='relu', kernel_regularizer=regularizers.l2(weight_penalty)) )\n",
    "model.add( Dropout(drop_prob_2) )\n",
    "model.add( Dense(num_classes, activation='softmax') )\n",
    "\n",
    "print(model.summary())\n",
    "\n",
    "# --------------------------------------\n",
    "# Loss function and Optimizer\n",
    "# --------------------------------------\n",
    "model.compile(loss='categorical_crossentropy', # using the cross-entropy loss function\n",
    "              optimizer='adam', # using the Adam optimiser\n",
    "              metrics=['accuracy']) # reporting the accuracy\n",
    "\n",
    "# --------------------------------------\n",
    "# Training\n",
    "# --------------------------------------\n",
    "history = model.fit(X_train, Y_train, # Train the model using the training set...\n",
    "          batch_size=batch_size, nb_epoch=num_epochs,\n",
    "          verbose=1, validation_split=0.4) # ...holding out 40% of the data for validation\n",
    "\n",
    "# --------------------------------------\n",
    "# Evaluation\n",
    "# --------------------------------------\n",
    "for loss_name, loss_value in list(zip(model.metrics_names, model.evaluate(X_test, Y_test, verbose=1))):\n",
    "    print('The final {} on the test set is: {:.2f}.'.format(loss_name, loss_value)) # Evaluate the trained model on the test set!\n",
    "    \n",
    "# --------------------------------------\n",
    "# Loss functions evolution\n",
    "# --------------------------------------\n",
    "plt.plot(history.history['loss'])\n",
    "plt.plot(history.history['val_loss'])\n",
    "plt.title('Model loss by epoch')\n",
    "plt.ylabel('loss')\n",
    "plt.xlabel('epoch')\n",
    "plt.legend(['train', 'test'], loc='right')\n",
    "plt.show()"
   ]
  },
  {
   "cell_type": "markdown",
   "metadata": {
    "colab_type": "text",
    "id": "q52AIFD8G3dk"
   },
   "source": [
    "**Final assignment: in code cell below, by applying a good combination and parameterization of the 2 regularization techniques, + increasing the number of training epochs, + reducing the proportion of validation hold-out, TRY TO OBTAIN >99% acuracy ON TEST SET:**"
   ]
  },
  {
   "cell_type": "code",
   "execution_count": 16,
   "metadata": {
    "colab": {},
    "colab_type": "code",
    "id": "mwgAaaAQG5X0"
   },
   "outputs": [
    {
     "name": "stderr",
     "output_type": "stream",
     "text": [
      "/usr/local/lib/python3.7/site-packages/ipykernel_launcher.py:24: UserWarning: Update your `Conv2D` call to the Keras 2 API: `Conv2D(6, (5, 5), activation=\"relu\", data_format=\"channels_first\", input_shape=(1, 28, 28..., padding=\"same\")`\n",
      "/usr/local/lib/python3.7/site-packages/ipykernel_launcher.py:29: UserWarning: Update your `Conv2D` call to the Keras 2 API: `Conv2D(16, (5, 5), activation=\"relu\", padding=\"same\")`\n"
     ]
    },
    {
     "name": "stdout",
     "output_type": "stream",
     "text": [
      "_________________________________________________________________\n",
      "Layer (type)                 Output Shape              Param #   \n",
      "=================================================================\n",
      "conv2d_7 (Conv2D)            (None, 6, 28, 28)         156       \n",
      "_________________________________________________________________\n",
      "max_pooling2d_7 (MaxPooling2 (None, 3, 14, 28)         0         \n",
      "_________________________________________________________________\n",
      "dropout_10 (Dropout)         (None, 3, 14, 28)         0         \n",
      "_________________________________________________________________\n",
      "conv2d_8 (Conv2D)            (None, 3, 14, 16)         11216     \n",
      "_________________________________________________________________\n",
      "max_pooling2d_8 (MaxPooling2 (None, 1, 7, 16)          0         \n",
      "_________________________________________________________________\n",
      "dropout_11 (Dropout)         (None, 1, 7, 16)          0         \n",
      "_________________________________________________________________\n",
      "flatten_4 (Flatten)          (None, 112)               0         \n",
      "_________________________________________________________________\n",
      "dense_7 (Dense)              (None, 128)               14464     \n",
      "_________________________________________________________________\n",
      "dropout_12 (Dropout)         (None, 128)               0         \n",
      "_________________________________________________________________\n",
      "dense_8 (Dense)              (None, 10)                1290      \n",
      "=================================================================\n",
      "Total params: 27,126\n",
      "Trainable params: 27,126\n",
      "Non-trainable params: 0\n",
      "_________________________________________________________________\n",
      "None\n"
     ]
    },
    {
     "name": "stderr",
     "output_type": "stream",
     "text": [
      "/usr/local/lib/python3.7/site-packages/ipykernel_launcher.py:53: UserWarning: The `nb_epoch` argument in `fit` has been renamed `epochs`.\n"
     ]
    },
    {
     "name": "stdout",
     "output_type": "stream",
     "text": [
      "Train on 36000 samples, validate on 24000 samples\n",
      "Epoch 1/20\n",
      "36000/36000 [==============================] - 27s 744us/step - loss: 2.6790 - acc: 0.6854 - val_loss: 0.5827 - val_acc: 0.9097\n",
      "Epoch 2/20\n",
      "36000/36000 [==============================] - 24s 672us/step - loss: 0.8392 - acc: 0.8158 - val_loss: 0.5119 - val_acc: 0.9269\n",
      "Epoch 3/20\n",
      "36000/36000 [==============================] - 32s 902us/step - loss: 0.7547 - acc: 0.8429 - val_loss: 0.4692 - val_acc: 0.9349\n",
      "Epoch 4/20\n",
      "36000/36000 [==============================] - 23s 645us/step - loss: 0.7014 - acc: 0.8542 - val_loss: 0.4654 - val_acc: 0.9392\n",
      "Epoch 5/20\n",
      "36000/36000 [==============================] - 31s 862us/step - loss: 0.6836 - acc: 0.8628 - val_loss: 0.4375 - val_acc: 0.9448\n",
      "Epoch 6/20\n",
      "36000/36000 [==============================] - 37s 1ms/step - loss: 0.6769 - acc: 0.8637 - val_loss: 0.4262 - val_acc: 0.9441\n",
      "Epoch 7/20\n",
      "36000/36000 [==============================] - 27s 740us/step - loss: 0.6521 - acc: 0.8718 - val_loss: 0.4434 - val_acc: 0.9407\n",
      "Epoch 8/20\n",
      "36000/36000 [==============================] - 22s 599us/step - loss: 0.6392 - acc: 0.8751 - val_loss: 0.4115 - val_acc: 0.9529\n",
      "Epoch 9/20\n",
      "36000/36000 [==============================] - 35s 962us/step - loss: 0.6375 - acc: 0.8776 - val_loss: 0.4203 - val_acc: 0.9463\n",
      "Epoch 10/20\n",
      "36000/36000 [==============================] - 37s 1ms/step - loss: 0.6285 - acc: 0.8757 - val_loss: 0.4032 - val_acc: 0.9517\n",
      "Epoch 11/20\n",
      "36000/36000 [==============================] - 33s 925us/step - loss: 0.6268 - acc: 0.8787 - val_loss: 0.3742 - val_acc: 0.9534\n",
      "Epoch 12/20\n",
      "36000/36000 [==============================] - 49s 1ms/step - loss: 0.6124 - acc: 0.8811 - val_loss: 0.4073 - val_acc: 0.9509\n",
      "Epoch 13/20\n",
      "36000/36000 [==============================] - 39s 1ms/step - loss: 0.6272 - acc: 0.8794 - val_loss: 0.3964 - val_acc: 0.9547\n",
      "Epoch 14/20\n",
      "36000/36000 [==============================] - 45s 1ms/step - loss: 0.6080 - acc: 0.8839 - val_loss: 0.3752 - val_acc: 0.9554\n",
      "Epoch 15/20\n",
      "36000/36000 [==============================] - 25s 690us/step - loss: 0.6084 - acc: 0.8825 - val_loss: 0.4002 - val_acc: 0.9517\n",
      "Epoch 16/20\n",
      "36000/36000 [==============================] - 26s 723us/step - loss: 0.5882 - acc: 0.8887 - val_loss: 0.4098 - val_acc: 0.9521\n",
      "Epoch 17/20\n",
      "36000/36000 [==============================] - 20s 560us/step - loss: 0.5938 - acc: 0.8872 - val_loss: 0.3871 - val_acc: 0.9544\n",
      "Epoch 18/20\n",
      "36000/36000 [==============================] - 20s 557us/step - loss: 0.5998 - acc: 0.8859 - val_loss: 0.3863 - val_acc: 0.9513\n",
      "Epoch 19/20\n",
      "36000/36000 [==============================] - 20s 556us/step - loss: 0.5986 - acc: 0.8858 - val_loss: 0.3977 - val_acc: 0.9552\n",
      "Epoch 20/20\n",
      "36000/36000 [==============================] - 23s 644us/step - loss: 0.5871 - acc: 0.8872 - val_loss: 0.3839 - val_acc: 0.9555\n",
      "10000/10000 [==============================] - 3s 291us/step\n",
      "The final loss on the test set is: 0.37.\n",
      "The final acc on the test set is: 0.96.\n"
     ]
    },
    {
     "data": {
      "image/png": "[encoded data removed]",
      "text/plain": [
       "<Figure size 432x288 with 1 Axes>"
      ]
     },
     "metadata": {
      "needs_background": "light"
     },
     "output_type": "display_data"
    }
   ],
   "source": [
    "# --------------------------------------\n",
    "# Network params\n",
    "# --------------------------------------\n",
    "# Network params\n",
    "batch_size = 32    # in each iteration, we consider 32 training examples at once\n",
    "num_epochs = 20    # we iterate 20 times over the entire training set\n",
    "kernel_size = 5    # we will use 5x5 kernels throughout\n",
    "pool_size = 2      # we will use 2x2 pooling throughout\n",
    "conv_depth_1 = 6   # we will initially have 6 kernels in first conv. layer...\n",
    "conv_depth_2 = 16  # ...switching to 16 after the first pooling layer\n",
    "drop_prob_1 = 0.4   # dropout after pooling with probability 0.2\n",
    "drop_prob_2 = 0.4   # dropout in the FC layer with probability 0.2\n",
    "hidden_size = 128  # the FC layer will have 128neurons\n",
    "weight_penalty = 0.3 # Factor for weights penalty\n",
    "\n",
    "# --------------------------------------\n",
    "# CNN network definition\n",
    "# --------------------------------------\n",
    "# inp = Input(shape=(1,height,width)) # greyscale --> depth==1\n",
    "# model = Model(input=inp, output=out) # To define a model, just specify its input and output layers\n",
    "\n",
    "model = Sequential()\n",
    "# Conv [8] -> Pool (with dropout on the pooling layer)\n",
    "model.add( Conv2D(conv_depth_1, (kernel_size,kernel_size), border_mode='same', activation='relu', data_format=\"channels_first\", input_shape=( 1, 28, 28)) )\n",
    "model.add( MaxPooling2D(pool_size=(pool_size, pool_size)) )\n",
    "model.add( Dropout(drop_prob_1) )\n",
    "\n",
    "# Conv [16] -> Pool (with dropout on the pooling layer)\n",
    "model.add( Conv2D(conv_depth_2, (kernel_size,kernel_size), border_mode='same', activation='relu') )\n",
    "model.add( MaxPooling2D(pool_size=(pool_size, pool_size)) )\n",
    "model.add( Dropout(drop_prob_1) )\n",
    "\n",
    "# Now flatten to 1D, apply FC -> ReLU (with dropout) -> softmax\n",
    "model.add( Flatten() )\n",
    "model.add( Dense(hidden_size, activation='relu', kernel_regularizer=regularizers.l2(weight_penalty)) )\n",
    "model.add( Dropout(drop_prob_2) )\n",
    "model.add( Dense(num_classes, activation='softmax') )\n",
    "\n",
    "print(model.summary())\n",
    "\n",
    "# --------------------------------------\n",
    "# Loss function and Optimizer\n",
    "# --------------------------------------\n",
    "model.compile(loss='categorical_crossentropy', # using the cross-entropy loss function\n",
    "              optimizer='adam', # using the Adam optimiser\n",
    "              metrics=['accuracy']) # reporting the accuracy\n",
    "\n",
    "# --------------------------------------\n",
    "# Training\n",
    "# --------------------------------------\n",
    "history = model.fit(X_train, Y_train, # Train the model using the training set...\n",
    "          batch_size=batch_size, nb_epoch=num_epochs,\n",
    "          verbose=1, validation_split=0.4) # ...holding out 40% of the data for validation\n",
    "\n",
    "# --------------------------------------\n",
    "# Evaluation\n",
    "# --------------------------------------\n",
    "for loss_name, loss_value in list(zip(model.metrics_names, model.evaluate(X_test, Y_test, verbose=1))):\n",
    "    print('The final {} on the test set is: {:.2f}.'.format(loss_name, loss_value)) # Evaluate the trained model on the test set!\n",
    "    \n",
    "# --------------------------------------\n",
    "# Loss functions evolution\n",
    "# --------------------------------------\n",
    "plt.plot(history.history['loss'])\n",
    "plt.plot(history.history['val_loss'])\n",
    "plt.title('Model loss by epoch')\n",
    "plt.ylabel('loss')\n",
    "plt.xlabel('epoch')\n",
    "plt.legend(['train', 'test'], loc='right')\n",
    "plt.show()"
   ]
  },
  {
   "cell_type": "code",
   "execution_count": null,
   "metadata": {},
   "outputs": [],
   "source": []
  }
 ],
 "metadata": {
  "accelerator": "GPU",
  "colab": {
   "collapsed_sections": [],
   "name": "LSML19_CNN_Introduction.ipynb",
   "provenance": [],
   "version": "0.3.2"
  },
  "kernelspec": {
   "display_name": "Python 3",
   "language": "python",
   "name": "python3"
  },
  "language_info": {
   "codemirror_mode": {
    "name": "ipython",
    "version": 3
   },
   "file_extension": ".py",
   "mimetype": "text/x-python",
   "name": "python",
   "nbconvert_exporter": "python",
   "pygments_lexer": "ipython3",
   "version": "3.7.2"
  }
 },
 "nbformat": 4,
 "nbformat_minor": 1
}
