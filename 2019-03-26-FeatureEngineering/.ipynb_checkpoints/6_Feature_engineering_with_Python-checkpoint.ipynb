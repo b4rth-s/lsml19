{
 "cells": [
  {
   "cell_type": "markdown",
   "metadata": {
    "colab_type": "text",
    "id": "zwObbSHYe1fF"
   },
   "source": [
    "# Feature engineering with Python\n",
    "After this 2 hours practical, you will be able to\n",
    "- preprocess main data types (numerical, various categorical, time data)\n",
    "- understand the challenges of high dimension\n",
    "- evaluate and optimize your feature engineering\n",
    "\n",
    "The content is quite dense. You can run it in a \"blackbox\" way, but you are encouraged to go back to it later to deepend your understanding. You can see today as a toolbox with working examples. We have tried to use \"real world datasets\" as much as possible.\n",
    "\n",
    "#### What is feature engineering?\n",
    "Very vague notion, mainly all transformation to go from raw data to input of your final ML pipeline. Can be standard or ad-hoc creative transformation of your data. A lot of constraints influence your feature engineering\n",
    "- extract meaningful information from data\n",
    "- transform your data to respect mathematical constraints of algorithms\n",
    "- reduction of dimensions\n",
    "\n",
    "Let's see how it works in practice. It may seem a bit chaotic, but there are actually some rules that help! \n",
    "<img src=\"machine_learning_2x.png\" style=\"width: 300px;\">\n",
    "\n",
    "# Table of contents\n",
    "1. [Date features](#dates)\n",
    "    1. [Turn timestamps into categorical features](#dateToCategorical)\n",
    "    2. [How to best deal with categorical features](#CategoricalEncoding)\n",
    "    3. [How about big data?](#BigData)\n",
    "2. [Numerical features](#numerical)\n",
    "3. [Dimensionality reduction](#PCA)\n",
    "\n",
    "There are a few questions to help you interprete the results!"
   ]
  },
  {
   "cell_type": "code",
   "execution_count": 2,
   "metadata": {
    "colab": {
     "base_uri": "https://localhost:8080/",
     "height": 245
    },
    "colab_type": "code",
    "executionInfo": {
     "elapsed": 15997,
     "status": "ok",
     "timestamp": 1553676304896,
     "user": {
      "displayName": "Barthélémy Simon",
      "photoUrl": "",
      "userId": "16785405159744966004"
     },
     "user_tz": -60
    },
    "id": "dE6CkTUxe1fh",
    "outputId": "e6575fd3-6d98-4e9e-b259-7d6e5e92f920"
   },
   "outputs": [
    {
     "name": "stdout",
     "output_type": "stream",
     "text": [
      "Requirement already up-to-date: seaborn==0.9.0 in /usr/local/lib/python3.6/dist-packages (0.9.0)\n",
      "Requirement already satisfied, skipping upgrade: pandas>=0.15.2 in /usr/local/lib/python3.6/dist-packages (from seaborn==0.9.0) (0.22.0)\n",
      "Requirement already satisfied, skipping upgrade: scipy>=0.14.0 in /usr/local/lib/python3.6/dist-packages (from seaborn==0.9.0) (1.1.0)\n",
      "Requirement already satisfied, skipping upgrade: numpy>=1.9.3 in /usr/local/lib/python3.6/dist-packages (from seaborn==0.9.0) (1.14.6)\n",
      "Requirement already satisfied, skipping upgrade: matplotlib>=1.4.3 in /usr/local/lib/python3.6/dist-packages (from seaborn==0.9.0) (3.0.3)\n",
      "Requirement already satisfied, skipping upgrade: python-dateutil>=2 in /usr/local/lib/python3.6/dist-packages (from pandas>=0.15.2->seaborn==0.9.0) (2.5.3)\n",
      "Requirement already satisfied, skipping upgrade: pytz>=2011k in /usr/local/lib/python3.6/dist-packages (from pandas>=0.15.2->seaborn==0.9.0) (2018.9)\n",
      "Requirement already satisfied, skipping upgrade: pyparsing!=2.0.4,!=2.1.2,!=2.1.6,>=2.0.1 in /usr/local/lib/python3.6/dist-packages (from matplotlib>=1.4.3->seaborn==0.9.0) (2.3.1)\n",
      "Requirement already satisfied, skipping upgrade: cycler>=0.10 in /usr/local/lib/python3.6/dist-packages (from matplotlib>=1.4.3->seaborn==0.9.0) (0.10.0)\n",
      "Requirement already satisfied, skipping upgrade: kiwisolver>=1.0.1 in /usr/local/lib/python3.6/dist-packages (from matplotlib>=1.4.3->seaborn==0.9.0) (1.0.1)\n",
      "Requirement already satisfied, skipping upgrade: six>=1.5 in /usr/local/lib/python3.6/dist-packages (from python-dateutil>=2->pandas>=0.15.2->seaborn==0.9.0) (1.11.0)\n",
      "Requirement already satisfied, skipping upgrade: setuptools in /usr/local/lib/python3.6/dist-packages (from kiwisolver>=1.0.1->matplotlib>=1.4.3->seaborn==0.9.0) (40.8.0)\n"
     ]
    }
   ],
   "source": [
    "# setup your notebook\n",
    "%matplotlib inline\n",
    "\n",
    "!pip install --upgrade seaborn==0.9.0\n",
    "\n",
    "import pandas as pd\n",
    "import numpy as np\n",
    "import matplotlib.pyplot as plt\n",
    "import seaborn as sns\n",
    "import scipy.stats as spstats\n",
    "from sklearn.linear_model import Ridge, LinearRegression, LogisticRegression\n",
    "from sklearn.metrics import mean_absolute_error, roc_curve\n",
    "from sklearn.preprocessing import OneHotEncoder, StandardScaler\n",
    "from sklearn.decomposition import PCA\n",
    "from sklearn import svm\n",
    "from sklearn.model_selection import train_test_split\n",
    "from sklearn.pipeline import make_pipeline"
   ]
  },
  {
   "cell_type": "markdown",
   "metadata": {
    "colab_type": "text",
    "id": "Z96OrDwfe1gI"
   },
   "source": [
    "## 1. Date features <a name=\"dates\"></a>\n",
    "\n",
    "A word about data.\n",
    "The dataset contains 9358 instances of hourly averaged responses from an array of 5 metal oxide chemical sensors embedded in an Air Quality Chemical Multisensor Device. The device was located on the field in a significantly polluted area, at road level,within an Italian city. Data were recorded from March 2004 to February 2005 (one year)representing the longest freely available recordings of on field deployed air quality chemical sensor devices responses. Ground Truth hourly averaged concentrations for CO, Non Metanic Hydrocarbons, Benzene, Total Nitrogen Oxides (NOx) and Nitrogen Dioxide (NO2) and were provided by a co-located reference certified analyzer.\n",
    "\n",
    "A lot of things can be done with this dataset, for our practical, we will just consider a time series problem, to predict the true CO concentration CG(GT) from the timestamp, and other parameters easy to acquire like Temperature, relative and absolute humidity (RH, AH). This way we can monitor CO level without a sensor. \n"
   ]
  },
  {
   "cell_type": "code",
   "execution_count": 4,
   "metadata": {
    "colab": {
     "base_uri": "https://localhost:8080/",
     "height": 34
    },
    "colab_type": "code",
    "executionInfo": {
     "elapsed": 742,
     "status": "ok",
     "timestamp": 1553614711653,
     "user": {
      "displayName": "Barthélémy Simon",
      "photoUrl": "",
      "userId": "16785405159744966004"
     },
     "user_tz": -60
    },
    "id": "oVa2XaWje1gQ",
    "outputId": "2900177f-1ffc-4427-c740-b97e070f416b"
   },
   "outputs": [
    {
     "name": "stdout",
     "output_type": "stream",
     "text": [
      "Drive already mounted at /content/gdrive; to attempt to forcibly remount, call drive.mount(\"/content/gdrive\", force_remount=True).\n"
     ]
    }
   ],
   "source": [
    "# first get the data\n",
    "\n",
    "# Décommenter si on le fait tourner sur Colab\n",
    "from google.colab import drive\n",
    "drive.mount('/content/gdrive')\n",
    "\n",
    "airdata = pd.read_csv('/content/gdrive/My Drive/Colab Notebooks/AirQualityUCI.csv', sep=';', decimal=b',', na_values=-200)\n",
    "\n",
    "# Décommenter si on le fait tourner directement sur l'ordi ou sur Jupyter\n",
    "#airdata = pd.read_csv('data/AirQualityUCI.csv', sep=';', decimal=b',', na_values=-200)"
   ]
  },
  {
   "cell_type": "code",
   "execution_count": 5,
   "metadata": {
    "colab": {
     "base_uri": "https://localhost:8080/",
     "height": 244
    },
    "colab_type": "code",
    "executionInfo": {
     "elapsed": 640,
     "status": "ok",
     "timestamp": 1553614718363,
     "user": {
      "displayName": "Barthélémy Simon",
      "photoUrl": "",
      "userId": "16785405159744966004"
     },
     "user_tz": -60
    },
    "id": "554aCFUte1gw",
    "outputId": "7150a8de-8a60-4204-df90-5d82aad71226"
   },
   "outputs": [
    {
     "data": {
      "text/html": [
       "<div>\n",
       "<style scoped>\n",
       "    .dataframe tbody tr th:only-of-type {\n",
       "        vertical-align: middle;\n",
       "    }\n",
       "\n",
       "    .dataframe tbody tr th {\n",
       "        vertical-align: top;\n",
       "    }\n",
       "\n",
       "    .dataframe thead th {\n",
       "        text-align: right;\n",
       "    }\n",
       "</style>\n",
       "<table border=\"1\" class=\"dataframe\">\n",
       "  <thead>\n",
       "    <tr style=\"text-align: right;\">\n",
       "      <th></th>\n",
       "      <th>Date</th>\n",
       "      <th>Time</th>\n",
       "      <th>CO(GT)</th>\n",
       "      <th>PT08.S1(CO)</th>\n",
       "      <th>NMHC(GT)</th>\n",
       "      <th>C6H6(GT)</th>\n",
       "      <th>PT08.S2(NMHC)</th>\n",
       "      <th>NOx(GT)</th>\n",
       "      <th>PT08.S3(NOx)</th>\n",
       "      <th>NO2(GT)</th>\n",
       "      <th>PT08.S4(NO2)</th>\n",
       "      <th>PT08.S5(O3)</th>\n",
       "      <th>T</th>\n",
       "      <th>RH</th>\n",
       "      <th>AH</th>\n",
       "      <th>Unnamed: 15</th>\n",
       "      <th>Unnamed: 16</th>\n",
       "    </tr>\n",
       "  </thead>\n",
       "  <tbody>\n",
       "    <tr>\n",
       "      <th>0</th>\n",
       "      <td>10/03/2004</td>\n",
       "      <td>18.00.00</td>\n",
       "      <td>2.6</td>\n",
       "      <td>1360.0</td>\n",
       "      <td>150.0</td>\n",
       "      <td>11.9</td>\n",
       "      <td>1046.0</td>\n",
       "      <td>166.0</td>\n",
       "      <td>1056.0</td>\n",
       "      <td>113.0</td>\n",
       "      <td>1692.0</td>\n",
       "      <td>1268.0</td>\n",
       "      <td>13.6</td>\n",
       "      <td>48.9</td>\n",
       "      <td>0.7578</td>\n",
       "      <td>NaN</td>\n",
       "      <td>NaN</td>\n",
       "    </tr>\n",
       "    <tr>\n",
       "      <th>1</th>\n",
       "      <td>10/03/2004</td>\n",
       "      <td>19.00.00</td>\n",
       "      <td>2.0</td>\n",
       "      <td>1292.0</td>\n",
       "      <td>112.0</td>\n",
       "      <td>9.4</td>\n",
       "      <td>955.0</td>\n",
       "      <td>103.0</td>\n",
       "      <td>1174.0</td>\n",
       "      <td>92.0</td>\n",
       "      <td>1559.0</td>\n",
       "      <td>972.0</td>\n",
       "      <td>13.3</td>\n",
       "      <td>47.7</td>\n",
       "      <td>0.7255</td>\n",
       "      <td>NaN</td>\n",
       "      <td>NaN</td>\n",
       "    </tr>\n",
       "    <tr>\n",
       "      <th>2</th>\n",
       "      <td>10/03/2004</td>\n",
       "      <td>20.00.00</td>\n",
       "      <td>2.2</td>\n",
       "      <td>1402.0</td>\n",
       "      <td>88.0</td>\n",
       "      <td>9.0</td>\n",
       "      <td>939.0</td>\n",
       "      <td>131.0</td>\n",
       "      <td>1140.0</td>\n",
       "      <td>114.0</td>\n",
       "      <td>1555.0</td>\n",
       "      <td>1074.0</td>\n",
       "      <td>11.9</td>\n",
       "      <td>54.0</td>\n",
       "      <td>0.7502</td>\n",
       "      <td>NaN</td>\n",
       "      <td>NaN</td>\n",
       "    </tr>\n",
       "    <tr>\n",
       "      <th>3</th>\n",
       "      <td>10/03/2004</td>\n",
       "      <td>21.00.00</td>\n",
       "      <td>2.2</td>\n",
       "      <td>1376.0</td>\n",
       "      <td>80.0</td>\n",
       "      <td>9.2</td>\n",
       "      <td>948.0</td>\n",
       "      <td>172.0</td>\n",
       "      <td>1092.0</td>\n",
       "      <td>122.0</td>\n",
       "      <td>1584.0</td>\n",
       "      <td>1203.0</td>\n",
       "      <td>11.0</td>\n",
       "      <td>60.0</td>\n",
       "      <td>0.7867</td>\n",
       "      <td>NaN</td>\n",
       "      <td>NaN</td>\n",
       "    </tr>\n",
       "    <tr>\n",
       "      <th>4</th>\n",
       "      <td>10/03/2004</td>\n",
       "      <td>22.00.00</td>\n",
       "      <td>1.6</td>\n",
       "      <td>1272.0</td>\n",
       "      <td>51.0</td>\n",
       "      <td>6.5</td>\n",
       "      <td>836.0</td>\n",
       "      <td>131.0</td>\n",
       "      <td>1205.0</td>\n",
       "      <td>116.0</td>\n",
       "      <td>1490.0</td>\n",
       "      <td>1110.0</td>\n",
       "      <td>11.2</td>\n",
       "      <td>59.6</td>\n",
       "      <td>0.7888</td>\n",
       "      <td>NaN</td>\n",
       "      <td>NaN</td>\n",
       "    </tr>\n",
       "  </tbody>\n",
       "</table>\n",
       "</div>"
      ],
      "text/plain": [
       "         Date      Time  CO(GT)  PT08.S1(CO)  NMHC(GT)  C6H6(GT)  \\\n",
       "0  10/03/2004  18.00.00     2.6       1360.0     150.0      11.9   \n",
       "1  10/03/2004  19.00.00     2.0       1292.0     112.0       9.4   \n",
       "2  10/03/2004  20.00.00     2.2       1402.0      88.0       9.0   \n",
       "3  10/03/2004  21.00.00     2.2       1376.0      80.0       9.2   \n",
       "4  10/03/2004  22.00.00     1.6       1272.0      51.0       6.5   \n",
       "\n",
       "   PT08.S2(NMHC)  NOx(GT)  PT08.S3(NOx)  NO2(GT)  PT08.S4(NO2)  PT08.S5(O3)  \\\n",
       "0         1046.0    166.0        1056.0    113.0        1692.0       1268.0   \n",
       "1          955.0    103.0        1174.0     92.0        1559.0        972.0   \n",
       "2          939.0    131.0        1140.0    114.0        1555.0       1074.0   \n",
       "3          948.0    172.0        1092.0    122.0        1584.0       1203.0   \n",
       "4          836.0    131.0        1205.0    116.0        1490.0       1110.0   \n",
       "\n",
       "      T    RH      AH  Unnamed: 15  Unnamed: 16  \n",
       "0  13.6  48.9  0.7578          NaN          NaN  \n",
       "1  13.3  47.7  0.7255          NaN          NaN  \n",
       "2  11.9  54.0  0.7502          NaN          NaN  \n",
       "3  11.0  60.0  0.7867          NaN          NaN  \n",
       "4  11.2  59.6  0.7888          NaN          NaN  "
      ]
     },
     "execution_count": 5,
     "metadata": {
      "tags": []
     },
     "output_type": "execute_result"
    }
   ],
   "source": [
    "# have a look\n",
    "airdata.head(5)"
   ]
  },
  {
   "cell_type": "code",
   "execution_count": 6,
   "metadata": {
    "colab": {
     "base_uri": "https://localhost:8080/",
     "height": 432
    },
    "colab_type": "code",
    "executionInfo": {
     "elapsed": 781,
     "status": "ok",
     "timestamp": 1553614721902,
     "user": {
      "displayName": "Barthélémy Simon",
      "photoUrl": "",
      "userId": "16785405159744966004"
     },
     "user_tz": -60
    },
    "id": "CvJeO7L1e1hK",
    "outputId": "ff36b2a9-1dae-444c-95c9-4d0be7350a16"
   },
   "outputs": [
    {
     "data": {
      "text/html": [
       "<div>\n",
       "<style scoped>\n",
       "    .dataframe tbody tr th:only-of-type {\n",
       "        vertical-align: middle;\n",
       "    }\n",
       "\n",
       "    .dataframe tbody tr th {\n",
       "        vertical-align: top;\n",
       "    }\n",
       "\n",
       "    .dataframe thead th {\n",
       "        text-align: right;\n",
       "    }\n",
       "</style>\n",
       "<table border=\"1\" class=\"dataframe\">\n",
       "  <thead>\n",
       "    <tr style=\"text-align: right;\">\n",
       "      <th></th>\n",
       "      <th>Date</th>\n",
       "      <th>Time</th>\n",
       "      <th>CO(GT)</th>\n",
       "      <th>PT08.S1(CO)</th>\n",
       "      <th>NMHC(GT)</th>\n",
       "      <th>C6H6(GT)</th>\n",
       "      <th>PT08.S2(NMHC)</th>\n",
       "      <th>NOx(GT)</th>\n",
       "      <th>PT08.S3(NOx)</th>\n",
       "      <th>NO2(GT)</th>\n",
       "      <th>PT08.S4(NO2)</th>\n",
       "      <th>PT08.S5(O3)</th>\n",
       "      <th>T</th>\n",
       "      <th>RH</th>\n",
       "      <th>AH</th>\n",
       "      <th>Unnamed: 15</th>\n",
       "      <th>Unnamed: 16</th>\n",
       "    </tr>\n",
       "  </thead>\n",
       "  <tbody>\n",
       "    <tr>\n",
       "      <th>count</th>\n",
       "      <td>9357</td>\n",
       "      <td>9357</td>\n",
       "      <td>7674.000000</td>\n",
       "      <td>8991.000000</td>\n",
       "      <td>914.000000</td>\n",
       "      <td>8991.000000</td>\n",
       "      <td>8991.000000</td>\n",
       "      <td>7718.000000</td>\n",
       "      <td>8991.000000</td>\n",
       "      <td>7715.000000</td>\n",
       "      <td>8991.000000</td>\n",
       "      <td>8991.000000</td>\n",
       "      <td>8991.000000</td>\n",
       "      <td>8991.000000</td>\n",
       "      <td>8991.000000</td>\n",
       "      <td>0.0</td>\n",
       "      <td>0.0</td>\n",
       "    </tr>\n",
       "    <tr>\n",
       "      <th>unique</th>\n",
       "      <td>391</td>\n",
       "      <td>24</td>\n",
       "      <td>NaN</td>\n",
       "      <td>NaN</td>\n",
       "      <td>NaN</td>\n",
       "      <td>NaN</td>\n",
       "      <td>NaN</td>\n",
       "      <td>NaN</td>\n",
       "      <td>NaN</td>\n",
       "      <td>NaN</td>\n",
       "      <td>NaN</td>\n",
       "      <td>NaN</td>\n",
       "      <td>NaN</td>\n",
       "      <td>NaN</td>\n",
       "      <td>NaN</td>\n",
       "      <td>NaN</td>\n",
       "      <td>NaN</td>\n",
       "    </tr>\n",
       "    <tr>\n",
       "      <th>top</th>\n",
       "      <td>26/12/2004</td>\n",
       "      <td>12.00.00</td>\n",
       "      <td>NaN</td>\n",
       "      <td>NaN</td>\n",
       "      <td>NaN</td>\n",
       "      <td>NaN</td>\n",
       "      <td>NaN</td>\n",
       "      <td>NaN</td>\n",
       "      <td>NaN</td>\n",
       "      <td>NaN</td>\n",
       "      <td>NaN</td>\n",
       "      <td>NaN</td>\n",
       "      <td>NaN</td>\n",
       "      <td>NaN</td>\n",
       "      <td>NaN</td>\n",
       "      <td>NaN</td>\n",
       "      <td>NaN</td>\n",
       "    </tr>\n",
       "    <tr>\n",
       "      <th>freq</th>\n",
       "      <td>24</td>\n",
       "      <td>390</td>\n",
       "      <td>NaN</td>\n",
       "      <td>NaN</td>\n",
       "      <td>NaN</td>\n",
       "      <td>NaN</td>\n",
       "      <td>NaN</td>\n",
       "      <td>NaN</td>\n",
       "      <td>NaN</td>\n",
       "      <td>NaN</td>\n",
       "      <td>NaN</td>\n",
       "      <td>NaN</td>\n",
       "      <td>NaN</td>\n",
       "      <td>NaN</td>\n",
       "      <td>NaN</td>\n",
       "      <td>NaN</td>\n",
       "      <td>NaN</td>\n",
       "    </tr>\n",
       "    <tr>\n",
       "      <th>mean</th>\n",
       "      <td>NaN</td>\n",
       "      <td>NaN</td>\n",
       "      <td>2.152750</td>\n",
       "      <td>1099.833166</td>\n",
       "      <td>218.811816</td>\n",
       "      <td>10.083105</td>\n",
       "      <td>939.153376</td>\n",
       "      <td>246.896735</td>\n",
       "      <td>835.493605</td>\n",
       "      <td>113.091251</td>\n",
       "      <td>1456.264598</td>\n",
       "      <td>1022.906128</td>\n",
       "      <td>18.317829</td>\n",
       "      <td>49.234201</td>\n",
       "      <td>1.025530</td>\n",
       "      <td>NaN</td>\n",
       "      <td>NaN</td>\n",
       "    </tr>\n",
       "    <tr>\n",
       "      <th>std</th>\n",
       "      <td>NaN</td>\n",
       "      <td>NaN</td>\n",
       "      <td>1.453252</td>\n",
       "      <td>217.080037</td>\n",
       "      <td>204.459921</td>\n",
       "      <td>7.449820</td>\n",
       "      <td>266.831429</td>\n",
       "      <td>212.979168</td>\n",
       "      <td>256.817320</td>\n",
       "      <td>48.370108</td>\n",
       "      <td>346.206794</td>\n",
       "      <td>398.484288</td>\n",
       "      <td>8.832116</td>\n",
       "      <td>17.316892</td>\n",
       "      <td>0.403813</td>\n",
       "      <td>NaN</td>\n",
       "      <td>NaN</td>\n",
       "    </tr>\n",
       "    <tr>\n",
       "      <th>min</th>\n",
       "      <td>NaN</td>\n",
       "      <td>NaN</td>\n",
       "      <td>0.100000</td>\n",
       "      <td>647.000000</td>\n",
       "      <td>7.000000</td>\n",
       "      <td>0.100000</td>\n",
       "      <td>383.000000</td>\n",
       "      <td>2.000000</td>\n",
       "      <td>322.000000</td>\n",
       "      <td>2.000000</td>\n",
       "      <td>551.000000</td>\n",
       "      <td>221.000000</td>\n",
       "      <td>-1.900000</td>\n",
       "      <td>9.200000</td>\n",
       "      <td>0.184700</td>\n",
       "      <td>NaN</td>\n",
       "      <td>NaN</td>\n",
       "    </tr>\n",
       "    <tr>\n",
       "      <th>25%</th>\n",
       "      <td>NaN</td>\n",
       "      <td>NaN</td>\n",
       "      <td>1.100000</td>\n",
       "      <td>937.000000</td>\n",
       "      <td>67.000000</td>\n",
       "      <td>4.400000</td>\n",
       "      <td>734.500000</td>\n",
       "      <td>98.000000</td>\n",
       "      <td>658.000000</td>\n",
       "      <td>78.000000</td>\n",
       "      <td>1227.000000</td>\n",
       "      <td>731.500000</td>\n",
       "      <td>11.800000</td>\n",
       "      <td>35.800000</td>\n",
       "      <td>0.736800</td>\n",
       "      <td>NaN</td>\n",
       "      <td>NaN</td>\n",
       "    </tr>\n",
       "    <tr>\n",
       "      <th>50%</th>\n",
       "      <td>NaN</td>\n",
       "      <td>NaN</td>\n",
       "      <td>1.800000</td>\n",
       "      <td>1063.000000</td>\n",
       "      <td>150.000000</td>\n",
       "      <td>8.200000</td>\n",
       "      <td>909.000000</td>\n",
       "      <td>180.000000</td>\n",
       "      <td>806.000000</td>\n",
       "      <td>109.000000</td>\n",
       "      <td>1463.000000</td>\n",
       "      <td>963.000000</td>\n",
       "      <td>17.800000</td>\n",
       "      <td>49.600000</td>\n",
       "      <td>0.995400</td>\n",
       "      <td>NaN</td>\n",
       "      <td>NaN</td>\n",
       "    </tr>\n",
       "    <tr>\n",
       "      <th>75%</th>\n",
       "      <td>NaN</td>\n",
       "      <td>NaN</td>\n",
       "      <td>2.900000</td>\n",
       "      <td>1231.000000</td>\n",
       "      <td>297.000000</td>\n",
       "      <td>14.000000</td>\n",
       "      <td>1116.000000</td>\n",
       "      <td>326.000000</td>\n",
       "      <td>969.500000</td>\n",
       "      <td>142.000000</td>\n",
       "      <td>1674.000000</td>\n",
       "      <td>1273.500000</td>\n",
       "      <td>24.400000</td>\n",
       "      <td>62.500000</td>\n",
       "      <td>1.313700</td>\n",
       "      <td>NaN</td>\n",
       "      <td>NaN</td>\n",
       "    </tr>\n",
       "    <tr>\n",
       "      <th>max</th>\n",
       "      <td>NaN</td>\n",
       "      <td>NaN</td>\n",
       "      <td>11.900000</td>\n",
       "      <td>2040.000000</td>\n",
       "      <td>1189.000000</td>\n",
       "      <td>63.700000</td>\n",
       "      <td>2214.000000</td>\n",
       "      <td>1479.000000</td>\n",
       "      <td>2683.000000</td>\n",
       "      <td>340.000000</td>\n",
       "      <td>2775.000000</td>\n",
       "      <td>2523.000000</td>\n",
       "      <td>44.600000</td>\n",
       "      <td>88.700000</td>\n",
       "      <td>2.231000</td>\n",
       "      <td>NaN</td>\n",
       "      <td>NaN</td>\n",
       "    </tr>\n",
       "  </tbody>\n",
       "</table>\n",
       "</div>"
      ],
      "text/plain": [
       "              Date      Time       CO(GT)  PT08.S1(CO)     NMHC(GT)  \\\n",
       "count         9357      9357  7674.000000  8991.000000   914.000000   \n",
       "unique         391        24          NaN          NaN          NaN   \n",
       "top     26/12/2004  12.00.00          NaN          NaN          NaN   \n",
       "freq            24       390          NaN          NaN          NaN   \n",
       "mean           NaN       NaN     2.152750  1099.833166   218.811816   \n",
       "std            NaN       NaN     1.453252   217.080037   204.459921   \n",
       "min            NaN       NaN     0.100000   647.000000     7.000000   \n",
       "25%            NaN       NaN     1.100000   937.000000    67.000000   \n",
       "50%            NaN       NaN     1.800000  1063.000000   150.000000   \n",
       "75%            NaN       NaN     2.900000  1231.000000   297.000000   \n",
       "max            NaN       NaN    11.900000  2040.000000  1189.000000   \n",
       "\n",
       "           C6H6(GT)  PT08.S2(NMHC)      NOx(GT)  PT08.S3(NOx)      NO2(GT)  \\\n",
       "count   8991.000000    8991.000000  7718.000000   8991.000000  7715.000000   \n",
       "unique          NaN            NaN          NaN           NaN          NaN   \n",
       "top             NaN            NaN          NaN           NaN          NaN   \n",
       "freq            NaN            NaN          NaN           NaN          NaN   \n",
       "mean      10.083105     939.153376   246.896735    835.493605   113.091251   \n",
       "std        7.449820     266.831429   212.979168    256.817320    48.370108   \n",
       "min        0.100000     383.000000     2.000000    322.000000     2.000000   \n",
       "25%        4.400000     734.500000    98.000000    658.000000    78.000000   \n",
       "50%        8.200000     909.000000   180.000000    806.000000   109.000000   \n",
       "75%       14.000000    1116.000000   326.000000    969.500000   142.000000   \n",
       "max       63.700000    2214.000000  1479.000000   2683.000000   340.000000   \n",
       "\n",
       "        PT08.S4(NO2)  PT08.S5(O3)            T           RH           AH  \\\n",
       "count    8991.000000  8991.000000  8991.000000  8991.000000  8991.000000   \n",
       "unique           NaN          NaN          NaN          NaN          NaN   \n",
       "top              NaN          NaN          NaN          NaN          NaN   \n",
       "freq             NaN          NaN          NaN          NaN          NaN   \n",
       "mean     1456.264598  1022.906128    18.317829    49.234201     1.025530   \n",
       "std       346.206794   398.484288     8.832116    17.316892     0.403813   \n",
       "min       551.000000   221.000000    -1.900000     9.200000     0.184700   \n",
       "25%      1227.000000   731.500000    11.800000    35.800000     0.736800   \n",
       "50%      1463.000000   963.000000    17.800000    49.600000     0.995400   \n",
       "75%      1674.000000  1273.500000    24.400000    62.500000     1.313700   \n",
       "max      2775.000000  2523.000000    44.600000    88.700000     2.231000   \n",
       "\n",
       "        Unnamed: 15  Unnamed: 16  \n",
       "count           0.0          0.0  \n",
       "unique          NaN          NaN  \n",
       "top             NaN          NaN  \n",
       "freq            NaN          NaN  \n",
       "mean            NaN          NaN  \n",
       "std             NaN          NaN  \n",
       "min             NaN          NaN  \n",
       "25%             NaN          NaN  \n",
       "50%             NaN          NaN  \n",
       "75%             NaN          NaN  \n",
       "max             NaN          NaN  "
      ]
     },
     "execution_count": 6,
     "metadata": {
      "tags": []
     },
     "output_type": "execute_result"
    }
   ],
   "source": [
    "# have a more informative look!\n",
    "airdata.describe(include='all')"
   ]
  },
  {
   "cell_type": "markdown",
   "metadata": {
    "colab_type": "text",
    "id": "V6k4gg8Ce1hq"
   },
   "source": [
    "first two columns are categorical (date, time), others are numerical. Let's have a look."
   ]
  },
  {
   "cell_type": "code",
   "execution_count": 7,
   "metadata": {
    "colab": {
     "base_uri": "https://localhost:8080/",
     "height": 910
    },
    "colab_type": "code",
    "executionInfo": {
     "elapsed": 7965,
     "status": "ok",
     "timestamp": 1553614732581,
     "user": {
      "displayName": "Barthélémy Simon",
      "photoUrl": "",
      "userId": "16785405159744966004"
     },
     "user_tz": -60
    },
    "id": "p9LnhmROe1h5",
    "outputId": "6267379b-d09f-4a1b-aafd-802a403ee022"
   },
   "outputs": [
    {
     "name": "stdout",
     "output_type": "stream",
     "text": [
      "Requirement already up-to-date: seaborn==0.9.0 in /usr/local/lib/python3.6/dist-packages (0.9.0)\n",
      "Requirement already satisfied, skipping upgrade: numpy>=1.9.3 in /usr/local/lib/python3.6/dist-packages (from seaborn==0.9.0) (1.14.6)\n",
      "Requirement already satisfied, skipping upgrade: scipy>=0.14.0 in /usr/local/lib/python3.6/dist-packages (from seaborn==0.9.0) (1.1.0)\n",
      "Requirement already satisfied, skipping upgrade: matplotlib>=1.4.3 in /usr/local/lib/python3.6/dist-packages (from seaborn==0.9.0) (3.0.3)\n",
      "Requirement already satisfied, skipping upgrade: pandas>=0.15.2 in /usr/local/lib/python3.6/dist-packages (from seaborn==0.9.0) (0.22.0)\n",
      "Requirement already satisfied, skipping upgrade: cycler>=0.10 in /usr/local/lib/python3.6/dist-packages (from matplotlib>=1.4.3->seaborn==0.9.0) (0.10.0)\n",
      "Requirement already satisfied, skipping upgrade: kiwisolver>=1.0.1 in /usr/local/lib/python3.6/dist-packages (from matplotlib>=1.4.3->seaborn==0.9.0) (1.0.1)\n",
      "Requirement already satisfied, skipping upgrade: pyparsing!=2.0.4,!=2.1.2,!=2.1.6,>=2.0.1 in /usr/local/lib/python3.6/dist-packages (from matplotlib>=1.4.3->seaborn==0.9.0) (2.3.1)\n",
      "Requirement already satisfied, skipping upgrade: python-dateutil>=2.1 in /usr/local/lib/python3.6/dist-packages (from matplotlib>=1.4.3->seaborn==0.9.0) (2.5.3)\n",
      "Requirement already satisfied, skipping upgrade: pytz>=2011k in /usr/local/lib/python3.6/dist-packages (from pandas>=0.15.2->seaborn==0.9.0) (2018.9)\n",
      "Requirement already satisfied, skipping upgrade: six in /usr/local/lib/python3.6/dist-packages (from cycler>=0.10->matplotlib>=1.4.3->seaborn==0.9.0) (1.11.0)\n",
      "Requirement already satisfied, skipping upgrade: setuptools in /usr/local/lib/python3.6/dist-packages (from kiwisolver>=1.0.1->matplotlib>=1.4.3->seaborn==0.9.0) (40.8.0)\n"
     ]
    },
    {
     "data": {
      "text/plain": [
       "<seaborn.matrix.ClusterGrid at 0x7f55f6d701d0>"
      ]
     },
     "execution_count": 7,
     "metadata": {
      "tags": []
     },
     "output_type": "execute_result"
    },
    {
     "data": {
      "image/png": "[encoded data removed]",
      "text/plain": [
       "<Figure size 720x720 with 4 Axes>"
      ]
     },
     "metadata": {
      "tags": []
     },
     "output_type": "display_data"
    }
   ],
   "source": [
    "sns.clustermap(airdata[airdata.columns[2:-2]].corr(), cmap=\"vlag\", vmin=-1, vmax=1, annot=True)"
   ]
  },
  {
   "cell_type": "markdown",
   "metadata": {
    "colab_type": "text",
    "id": "WeSWL46Ve1is"
   },
   "source": [
    "### A. Turn timestamps into categorical features <a name=\"dateToCategorical\"></a>\n",
    "To exploit the timestamps, we are going to use the [pandas timeseries functions](https://pandas.pydata.org/pandas-docs/stable/timeseries.html) to extract meaningful categorical features like the day in the week, the month etc. We can consider other more complex variables like season, if it is a holiday etc."
   ]
  },
  {
   "cell_type": "code",
   "execution_count": 0,
   "metadata": {
    "colab": {},
    "colab_type": "code",
    "id": "lWdDDD5ke1i-"
   },
   "outputs": [],
   "source": [
    "# we drop Nan values for the variables we care about\n",
    "airdata_nona = airdata.dropna(subset=['CO(GT)', 'Date', 'Time', 'T', 'AH', 'RH'])"
   ]
  },
  {
   "cell_type": "code",
   "execution_count": 0,
   "metadata": {
    "colab": {},
    "colab_type": "code",
    "id": "TyNSFxaTe1jt"
   },
   "outputs": [],
   "source": [
    "# some conversion work\n",
    "airdata_nona = airdata_nona.assign(date_format = pd.to_datetime(airdata_nona.Date))\n",
    "airdata_nona.index=airdata_nona.date_format\n",
    "airdata_nona = airdata_nona.assign(day_year=airdata_nona.date_format.dt.dayofyear)\n",
    "airdata_nona = airdata_nona.assign(day_week=airdata_nona.date_format.dt.dayofweek)\n",
    "airdata_nona = airdata_nona.assign(weekname=airdata_nona.date_format.dt.week)\n",
    "airdata_nona = airdata_nona.assign(month=airdata_nona.date_format.dt.month)\n",
    "airdata_nona = airdata_nona.assign(hour=airdata_nona.Time.str[:-6].astype(int))"
   ]
  },
  {
   "cell_type": "code",
   "execution_count": 0,
   "metadata": {
    "colab": {},
    "colab_type": "code",
    "id": "qZ7n2P_2e1kd"
   },
   "outputs": [],
   "source": [
    "# we limit ourselves to a reduced time window in which the measures are dense.\n",
    "airdata_nona_small = airdata_nona[(airdata_nona.date_format>='2004-04-01')&(airdata_nona.date_format<='2005-04-30')]\n"
   ]
  },
  {
   "cell_type": "code",
   "execution_count": 11,
   "metadata": {
    "colab": {
     "base_uri": "https://localhost:8080/",
     "height": 34
    },
    "colab_type": "code",
    "executionInfo": {
     "elapsed": 966,
     "status": "ok",
     "timestamp": 1553614861711,
     "user": {
      "displayName": "Barthélémy Simon",
      "photoUrl": "",
      "userId": "16785405159744966004"
     },
     "user_tz": -60
    },
    "id": "BhVysE8Qe1lJ",
    "outputId": "005b0684-c7c4-4ecd-989d-4fed28230b6f"
   },
   "outputs": [
    {
     "name": "stdout",
     "output_type": "stream",
     "text": [
      "(9471, 17) (7344, 23) (5958, 23)\n"
     ]
    }
   ],
   "source": [
    "# some sanity check.\n",
    "print(airdata.shape, airdata_nona.shape, airdata_nona_small.shape)"
   ]
  },
  {
   "cell_type": "markdown",
   "metadata": {
    "colab_type": "text",
    "id": "TA5VWx4Pe1ld"
   },
   "source": [
    "##### Evaluation setup\n",
    "to go further, we need a train-test split. The goal is to see how a good preprocess of inputs leads to better predictions.\n",
    "the data is kind of complicated, we cannot just randomly divide in train and test!! Indeed, if I have the level of CO some day at 3pm, provided my model is complex enough to get the info, I might have data leakage and bias my prediction of the CO level at 4pm the same day in the test set. Let us get as a test set with 12 random weeks.\n",
    "\n",
    "We also have to choose a metric for evaluation. Let's gor for the [mean absolute error](http://scikit-learn.org/stable/modules/generated/sklearn.metrics.mean_absolute_error.html), and a regression algorithm. Let's go for simple [linear ridge regression](http://scikit-learn.org/stable/modules/generated/sklearn.linear_model.Ridge.html). We could have something fancier and better performance, but we are interested in feature engineering here."
   ]
  },
  {
   "cell_type": "code",
   "execution_count": 0,
   "metadata": {
    "colab": {},
    "colab_type": "code",
    "id": "No2N_ifOe1lh"
   },
   "outputs": [],
   "source": [
    "# get train test split.\n",
    "np.random.seed(4697)\n",
    "test_weeks = np.random.choice(airdata_nona_small.weekname.unique(), 12, replace=False)"
   ]
  },
  {
   "cell_type": "code",
   "execution_count": 13,
   "metadata": {
    "colab": {
     "base_uri": "https://localhost:8080/",
     "height": 34
    },
    "colab_type": "code",
    "executionInfo": {
     "elapsed": 934,
     "status": "ok",
     "timestamp": 1553614974305,
     "user": {
      "displayName": "Barthélémy Simon",
      "photoUrl": "",
      "userId": "16785405159744966004"
     },
     "user_tz": -60
    },
    "id": "gXJ9Q-6we1l1",
    "outputId": "ec87c3f8-ce73-4f43-e95f-5e7c0e957ad5"
   },
   "outputs": [
    {
     "data": {
      "text/plain": [
       "array([15, 30, 29, 36, 19, 14,  7, 27, 21,  4, 23, 33])"
      ]
     },
     "execution_count": 13,
     "metadata": {
      "tags": []
     },
     "output_type": "execute_result"
    }
   ],
   "source": [
    "test_weeks"
   ]
  },
  {
   "cell_type": "code",
   "execution_count": 0,
   "metadata": {
    "colab": {},
    "colab_type": "code",
    "id": "BX9Uoxj6e1mm"
   },
   "outputs": [],
   "source": [
    "training_set = airdata_nona_small[~airdata_nona_small.weekname.isin(test_weeks)]\n",
    "testing_set = airdata_nona_small[airdata_nona_small.weekname.isin(test_weeks)]"
   ]
  },
  {
   "cell_type": "markdown",
   "metadata": {
    "colab_type": "text",
    "id": "tmazcMYIe1mx"
   },
   "source": [
    "Let's train a first model! This will be our reference for performance"
   ]
  },
  {
   "cell_type": "code",
   "execution_count": 15,
   "metadata": {
    "colab": {
     "base_uri": "https://localhost:8080/",
     "height": 34
    },
    "colab_type": "code",
    "executionInfo": {
     "elapsed": 1147,
     "status": "ok",
     "timestamp": 1553615041836,
     "user": {
      "displayName": "Barthélémy Simon",
      "photoUrl": "",
      "userId": "16785405159744966004"
     },
     "user_tz": -60
    },
    "id": "gBuuv4yde1m0",
    "outputId": "d387d4c0-ebcc-4a4b-ae6e-8e7a0555eb09"
   },
   "outputs": [
    {
     "name": "stdout",
     "output_type": "stream",
     "text": [
      "train MAE\t 1.0470299642479115 \t; test MAE\t 0.8996617180893004\n"
     ]
    }
   ],
   "source": [
    "variable_list = ['T', 'AH', 'RH', 'month', 'day_week', 'hour']\n",
    "X_train = training_set[variable_list]\n",
    "Y_train = training_set['CO(GT)'].as_matrix().ravel()\n",
    "X_test = testing_set[variable_list]\n",
    "Y_test = testing_set['CO(GT)'].as_matrix().ravel()\n",
    "clf = Ridge(alpha=1)\n",
    "clf.fit(X_train, Y_train)\n",
    "print('train MAE\\t', mean_absolute_error(Y_train, clf.predict(X_train)), '\\t; test MAE\\t', mean_absolute_error(Y_test, clf.predict(X_test)))"
   ]
  },
  {
   "cell_type": "markdown",
   "metadata": {
    "colab_type": "text",
    "id": "9W8MDjrce1nC"
   },
   "source": [
    "Now let's do models adding one variable at a time."
   ]
  },
  {
   "cell_type": "code",
   "execution_count": 16,
   "metadata": {
    "colab": {
     "base_uri": "https://localhost:8080/",
     "height": 121
    },
    "colab_type": "code",
    "executionInfo": {
     "elapsed": 891,
     "status": "ok",
     "timestamp": 1553615098857,
     "user": {
      "displayName": "Barthélémy Simon",
      "photoUrl": "",
      "userId": "16785405159744966004"
     },
     "user_tz": -60
    },
    "id": "gQeTxk7se1nN",
    "outputId": "87683265-20be-4582-b8df-843fe735f0f2"
   },
   "outputs": [
    {
     "name": "stdout",
     "output_type": "stream",
     "text": [
      "train MAE\t 1.1519091635395708 \t; test MAE\t 1.0322634415000407\n",
      "train MAE\t 1.1533052574292717 \t; test MAE\t 1.0284925404733838\n",
      "train MAE\t 1.1521495552612084 \t; test MAE\t 1.0160757973468595\n",
      "train MAE\t 1.1505590114456852 \t; test MAE\t 0.9892218773395158\n",
      "train MAE\t 1.1477858772648057 \t; test MAE\t 0.9617848717116955\n",
      "train MAE\t 1.0470299642479115 \t; test MAE\t 0.8996617180893004\n"
     ]
    }
   ],
   "source": [
    "for i, variable in enumerate(variable_list):\n",
    "    X_train = training_set[variable_list[:i+1]]\n",
    "    Y_train = training_set['CO(GT)'].as_matrix().ravel()\n",
    "    X_test = testing_set[variable_list[:i+1]]\n",
    "    Y_test = testing_set['CO(GT)'].as_matrix().ravel()\n",
    "    clf = Ridge(alpha=1)\n",
    "    clf.fit(X_train, Y_train)\n",
    "    print('train MAE\\t', mean_absolute_error(Y_train, clf.predict(X_train)), '\\t; test MAE\\t', mean_absolute_error(Y_test, clf.predict(X_test)))"
   ]
  },
  {
   "cell_type": "markdown",
   "metadata": {
    "colab_type": "text",
    "id": "UGc9NxE0e1nn"
   },
   "source": [
    "**Question** Why have we done this last experiment? what does it teach us?\n",
    "\n",
    "__Réponse__ Nous avons fait ce test pour voir que d'ajouter des variables permet d'augmenter la precision de réponse de notre algo. Plus il y a de variables d'entrée dans notre modèle, plus celui-ci devient précis.\n"
   ]
  },
  {
   "cell_type": "markdown",
   "metadata": {
    "colab_type": "text",
    "id": "YX9z9cPge1nq"
   },
   "source": [
    "\n",
    "\n",
    "### B. How to best deal with categorical features <a name=\"CategoricalEncoding\"></a>\n",
    "For now, we have not really thought about it, we are lucky and our categorical data have a natural numeric representation. It is called [Label encoding](http://scikit-learn.org/stable/modules/generated/sklearn.preprocessing.LabelEncoder.html). But there are other possibilities, like [one hot encoding](http://scikit-learn.org/stable/modules/generated/sklearn.preprocessing.OneHotEncoder.html#sklearn.preprocessing.OneHotEncoder), also called [dummy encoding](https://pandas.pydata.org/pandas-docs/stable/generated/pandas.get_dummies.html)."
   ]
  },
  {
   "cell_type": "code",
   "execution_count": 17,
   "metadata": {
    "colab": {
     "base_uri": "https://localhost:8080/",
     "height": 301
    },
    "colab_type": "code",
    "executionInfo": {
     "elapsed": 1366,
     "status": "ok",
     "timestamp": 1553615239663,
     "user": {
      "displayName": "Barthélémy Simon",
      "photoUrl": "",
      "userId": "16785405159744966004"
     },
     "user_tz": -60
    },
    "id": "vxJD575ge1n8",
    "outputId": "71ad353a-6824-4ce4-8e35-99dbe6fa8207"
   },
   "outputs": [
    {
     "data": {
      "text/plain": [
       "<matplotlib.axes._subplots.AxesSubplot at 0x7f55cbf73cf8>"
      ]
     },
     "execution_count": 17,
     "metadata": {
      "tags": []
     },
     "output_type": "execute_result"
    },
    {
     "data": {
      "image/png": "[encoded data removed]",
      "text/plain": [
       "<Figure size 432x288 with 1 Axes>"
      ]
     },
     "metadata": {
      "tags": []
     },
     "output_type": "display_data"
    }
   ],
   "source": [
    "sns.boxplot(x='day_week', y='CO(GT)', data=training_set, showfliers=False)"
   ]
  },
  {
   "cell_type": "code",
   "execution_count": 18,
   "metadata": {
    "colab": {
     "base_uri": "https://localhost:8080/",
     "height": 300
    },
    "colab_type": "code",
    "executionInfo": {
     "elapsed": 1331,
     "status": "ok",
     "timestamp": 1553615247727,
     "user": {
      "displayName": "Barthélémy Simon",
      "photoUrl": "",
      "userId": "16785405159744966004"
     },
     "user_tz": -60
    },
    "id": "SenDOKGpe1oR",
    "outputId": "6ae6914e-7bdb-4417-de40-6b2af6718213"
   },
   "outputs": [
    {
     "data": {
      "text/plain": [
       "<matplotlib.axes._subplots.AxesSubplot at 0x7f55ca6e9748>"
      ]
     },
     "execution_count": 18,
     "metadata": {
      "tags": []
     },
     "output_type": "execute_result"
    },
    {
     "data": {
      "image/png": "[encoded data removed]",
      "text/plain": [
       "<Figure size 432x288 with 1 Axes>"
      ]
     },
     "metadata": {
      "tags": []
     },
     "output_type": "display_data"
    }
   ],
   "source": [
    "sns.boxplot(x='hour', y='CO(GT)', data=training_set, showfliers=False)"
   ]
  },
  {
   "cell_type": "code",
   "execution_count": 19,
   "metadata": {
    "colab": {
     "base_uri": "https://localhost:8080/",
     "height": 300
    },
    "colab_type": "code",
    "executionInfo": {
     "elapsed": 1258,
     "status": "ok",
     "timestamp": 1553615256916,
     "user": {
      "displayName": "Barthélémy Simon",
      "photoUrl": "",
      "userId": "16785405159744966004"
     },
     "user_tz": -60
    },
    "id": "uDyo4WjUe1od",
    "outputId": "ad6fa5ec-e0fa-434f-f016-d020080e49fa"
   },
   "outputs": [
    {
     "data": {
      "text/plain": [
       "<matplotlib.axes._subplots.AxesSubplot at 0x7f55ca570f60>"
      ]
     },
     "execution_count": 19,
     "metadata": {
      "tags": []
     },
     "output_type": "execute_result"
    },
    {
     "data": {
      "image/png": "[encoded data removed]",
      "text/plain": [
       "<Figure size 432x288 with 1 Axes>"
      ]
     },
     "metadata": {
      "tags": []
     },
     "output_type": "display_data"
    }
   ],
   "source": [
    "sns.boxplot(x='month', y='CO(GT)', data=training_set, showfliers=False)"
   ]
  },
  {
   "cell_type": "markdown",
   "metadata": {
    "colab_type": "text",
    "id": "SXeoR5oze1or"
   },
   "source": [
    "\n",
    "\n",
    "Let's sum up. We have transformed useless time data into several useful categorical data like day of the week, hour in the day, month, they naturally have some numerical value (January is 1 etc), or the hour of the day is numerical. This is called [Label encoding](http://scikit-learn.org/stable/modules/generated/sklearn.preprocessing.LabelEncoder.html)\n",
    "\n",
    "**Question** Given we consider a linear model, briefly explain why one hot encoding might work better for this dataset.\n",
    "\n",
    "__Réponse__ One hot encoding marche mieux ici car il permet de ne pas attribuer de poids plus important aux derniers mois et aux derniers jours simplement parce que leur nombre est plus élevé. Voir [https://hackernoon.com/what-is-one-hot-encoding-why-and-when-do-you-have-to-use-it-e3c6186d008f](https://hackernoon.com/what-is-one-hot-encoding-why-and-when-do-you-have-to-use-it-e3c6186d008f).\n",
    "\n",
    "\n",
    "Let's look at each variable among day_week, hour and month, and see if it works better with label encoding or one hot encoding."
   ]
  },
  {
   "cell_type": "code",
   "execution_count": 20,
   "metadata": {
    "colab": {
     "base_uri": "https://localhost:8080/",
     "height": 506
    },
    "colab_type": "code",
    "executionInfo": {
     "elapsed": 576,
     "status": "ok",
     "timestamp": 1553615559313,
     "user": {
      "displayName": "Barthélémy Simon",
      "photoUrl": "",
      "userId": "16785405159744966004"
     },
     "user_tz": -60
    },
    "id": "nLTjeRCEe1oz",
    "outputId": "ffa379a4-0e57-4e76-f7db-e27f062b6508"
   },
   "outputs": [
    {
     "name": "stdout",
     "output_type": "stream",
     "text": [
      "day_week \ttrain MAE   1.15 ; test MAE   1.01 \t; dummy train MAE   1.13 \t; dummy test MAE   0.99\n",
      "hour \ttrain MAE   1.06 ; test MAE   0.98 \t; dummy train MAE   0.88 \t; dummy test MAE   0.84\n",
      "month \ttrain MAE   1.15 ; test MAE   1.0 \t; dummy train MAE   1.13 \t; dummy test MAE   0.98\n"
     ]
    },
    {
     "name": "stderr",
     "output_type": "stream",
     "text": [
      "/usr/local/lib/python3.6/dist-packages/sklearn/preprocessing/_encoders.py:371: FutureWarning: The handling of integer data will change in version 0.22. Currently, the categories are determined based on the range [0, max(values)], while in the future they will be determined based on the unique values.\n",
      "If you want the future behaviour and silence this warning, you can specify \"categories='auto'\".\n",
      "In case you used a LabelEncoder before this OneHotEncoder to convert the categories to integers, then you can now use the OneHotEncoder directly.\n",
      "  warnings.warn(msg, FutureWarning)\n",
      "/usr/local/lib/python3.6/dist-packages/sklearn/preprocessing/_encoders.py:371: FutureWarning: The handling of integer data will change in version 0.22. Currently, the categories are determined based on the range [0, max(values)], while in the future they will be determined based on the unique values.\n",
      "If you want the future behaviour and silence this warning, you can specify \"categories='auto'\".\n",
      "In case you used a LabelEncoder before this OneHotEncoder to convert the categories to integers, then you can now use the OneHotEncoder directly.\n",
      "  warnings.warn(msg, FutureWarning)\n",
      "/usr/local/lib/python3.6/dist-packages/sklearn/preprocessing/_encoders.py:371: FutureWarning: The handling of integer data will change in version 0.22. Currently, the categories are determined based on the range [0, max(values)], while in the future they will be determined based on the unique values.\n",
      "If you want the future behaviour and silence this warning, you can specify \"categories='auto'\".\n",
      "In case you used a LabelEncoder before this OneHotEncoder to convert the categories to integers, then you can now use the OneHotEncoder directly.\n",
      "  warnings.warn(msg, FutureWarning)\n",
      "/usr/local/lib/python3.6/dist-packages/sklearn/preprocessing/_encoders.py:371: FutureWarning: The handling of integer data will change in version 0.22. Currently, the categories are determined based on the range [0, max(values)], while in the future they will be determined based on the unique values.\n",
      "If you want the future behaviour and silence this warning, you can specify \"categories='auto'\".\n",
      "In case you used a LabelEncoder before this OneHotEncoder to convert the categories to integers, then you can now use the OneHotEncoder directly.\n",
      "  warnings.warn(msg, FutureWarning)\n",
      "/usr/local/lib/python3.6/dist-packages/sklearn/preprocessing/_encoders.py:371: FutureWarning: The handling of integer data will change in version 0.22. Currently, the categories are determined based on the range [0, max(values)], while in the future they will be determined based on the unique values.\n",
      "If you want the future behaviour and silence this warning, you can specify \"categories='auto'\".\n",
      "In case you used a LabelEncoder before this OneHotEncoder to convert the categories to integers, then you can now use the OneHotEncoder directly.\n",
      "  warnings.warn(msg, FutureWarning)\n",
      "/usr/local/lib/python3.6/dist-packages/sklearn/preprocessing/_encoders.py:371: FutureWarning: The handling of integer data will change in version 0.22. Currently, the categories are determined based on the range [0, max(values)], while in the future they will be determined based on the unique values.\n",
      "If you want the future behaviour and silence this warning, you can specify \"categories='auto'\".\n",
      "In case you used a LabelEncoder before this OneHotEncoder to convert the categories to integers, then you can now use the OneHotEncoder directly.\n",
      "  warnings.warn(msg, FutureWarning)\n"
     ]
    }
   ],
   "source": [
    "for variable in ['day_week', 'hour', 'month']:\n",
    "    enc = OneHotEncoder()\n",
    "    enc.fit(training_set[variable].as_matrix().reshape(-1, 1))\n",
    "    X_train_hot = enc.fit_transform(training_set[variable].as_matrix().reshape(-1, 1))\n",
    "    X_train = training_set[variable].as_matrix().reshape(-1, 1)\n",
    "    Y_train = training_set['CO(GT)'].as_matrix().ravel()\n",
    "    X_test_hot = enc.transform(testing_set[variable].as_matrix().reshape(-1, 1))\n",
    "    X_test = testing_set[variable].as_matrix().reshape(-1, 1)\n",
    "    Y_test = testing_set['CO(GT)'].as_matrix().ravel()\n",
    "    clf = Ridge(alpha=1)\n",
    "    clf.fit(X_train, Y_train)\n",
    "    clf_hot = Ridge(alpha=1)\n",
    "    clf_hot.fit(X_train_hot, Y_train)\n",
    "    print(variable, '\\ttrain MAE  ', np.round(mean_absolute_error(Y_train, clf.predict(X_train)), 2), '; test MAE  ', np.round(mean_absolute_error(Y_test, clf.predict(X_test)),2),  '\\t; dummy train MAE  ', np.round(mean_absolute_error(Y_train, clf_hot.predict(X_train_hot)), 2), '\\t; dummy test MAE  ', np.round(mean_absolute_error(Y_test, clf_hot.predict(X_test_hot)), 2))"
   ]
  },
  {
   "cell_type": "markdown",
   "metadata": {
    "colab_type": "text",
    "id": "s2SxART4e1pO"
   },
   "source": [
    "**Question** What do you think of those results??\n",
    "\n",
    "__Réponse__ On constate qu'en utilisant le one-hot encoding, on réduit le MAE par rapport à la situation en Label Encoding. Le One-Hot encoding améliore la performance de notre algorithme.\n",
    "\n"
   ]
  },
  {
   "cell_type": "code",
   "execution_count": 21,
   "metadata": {
    "colab": {
     "base_uri": "https://localhost:8080/",
     "height": 34
    },
    "colab_type": "code",
    "executionInfo": {
     "elapsed": 813,
     "status": "ok",
     "timestamp": 1553615800035,
     "user": {
      "displayName": "Barthélémy Simon",
      "photoUrl": "",
      "userId": "16785405159744966004"
     },
     "user_tz": -60
    },
    "id": "VdU-T4yse1pR",
    "outputId": "2b60c9a3-6996-4370-f1ac-bf1f9be0db25"
   },
   "outputs": [
    {
     "name": "stdout",
     "output_type": "stream",
     "text": [
      "train MAE\t 0.8149335006785488 \t; test MAE\t 0.7585183230923085\n"
     ]
    }
   ],
   "source": [
    "# final best perf with all 3 variables in ont hot encoding\n",
    "X = pd.get_dummies(airdata_nona_small, columns=['day_week', 'hour', 'month'])\n",
    "col_list = [c for c in X.columns if '_' in c]\n",
    "col_list.remove('day_year')\n",
    "col_list.remove('date_format')\n",
    "col_list += ['T', 'RH', 'AH']\n",
    "X_train = X[~X.weekname.isin(test_weeks)][col_list]\n",
    "X_test = X[X.weekname.isin(test_weeks)][col_list]\n",
    "Y_train = training_set['CO(GT)'].as_matrix().ravel()\n",
    "Y_test = testing_set['CO(GT)'].as_matrix().ravel()\n",
    "clf = Ridge(alpha=1)\n",
    "clf.fit(X_train, Y_train)\n",
    "print('train MAE\\t', mean_absolute_error(Y_train, clf.predict(X_train)), '\\t; test MAE\\t', mean_absolute_error(Y_test, clf.predict(X_test)))"
   ]
  },
  {
   "cell_type": "markdown",
   "metadata": {
    "colab_type": "text",
    "id": "ZORKVuw-e1pm"
   },
   "source": [
    "**Question** Are you convinced?\n",
    "\n",
    "__Réponse__ Le MAE a drastiquement diminué par rapport à la situation en Label encoding.\n",
    "\n",
    "Further understanding can be achieved by looking at the weights found by the model in the label encoding and in the one hot encoding\n",
    "\n",
    "\n",
    "\n",
    "### C. How about big data? <a name=\"BigData\"></a>\n",
    "Ok, fine, amazing performances! But our categorical variables were kind of nice, and do not have thousands of possible values. In that case we could not binarize everything. What are we going to do??\n",
    "<img src=\"https://cdn-images-1.medium.com/max/1600/0*FwubnnoNlt6Coo9j.png\">\n",
    "\n",
    "Let's imagine we have a categorical variable with many possible values. A few real world examples could be airports in flight delay data (there are >5k public airports in the US!!!), or IP addresses. \n",
    "\n",
    "Let us imagine it is not possible to binarize hours of the day (imagine we have a record every minute for instance). We could group the minutes by bins. Or we could consider the average of the target variable for that minute! Let's do that for hours in the day. It may seem weird, but if we stick to our train data, no data leakage."
   ]
  },
  {
   "cell_type": "code",
   "execution_count": 0,
   "metadata": {
    "colab": {},
    "colab_type": "code",
    "id": "whN_ltkFe1px"
   },
   "outputs": [],
   "source": [
    "# Let's build our average. We are very careful and use only the train set !!\n",
    "X_train = airdata_nona_small[~airdata_nona_small.weekname.isin(test_weeks)]\n",
    "match_time = X_train.groupby('Time')['CO(GT)'].mean().to_frame()\n",
    "match_day = X_train.groupby('day_week')['CO(GT)'].mean().to_frame()\n",
    "match_month = X_train.groupby('month')['CO(GT)'].mean().to_frame()\n",
    "#print(X_train)\n",
    "#print(match_time, match_day, match_month)"
   ]
  },
  {
   "cell_type": "code",
   "execution_count": 0,
   "metadata": {
    "colab": {},
    "colab_type": "code",
    "id": "lUYvg3lFe1p9"
   },
   "outputs": [],
   "source": [
    "# let's add our new features to the dataset!!!!\n",
    "X_time = pd.merge(airdata_nona_small, match_time, left_on='Time', right_index=True, suffixes=['', '_time'])\n",
    "X_time_day = pd.merge(X_time, match_day, left_on='day_week', right_index=True, suffixes=['', '_day'])\n",
    "X_time_day_month = pd.merge(X_time_day, match_month, left_on='month', right_index=True, suffixes=['', '_month'])\n",
    "#print(X_time_day_month)"
   ]
  },
  {
   "cell_type": "code",
   "execution_count": 38,
   "metadata": {
    "colab": {
     "base_uri": "https://localhost:8080/",
     "height": 34
    },
    "colab_type": "code",
    "executionInfo": {
     "elapsed": 600,
     "status": "ok",
     "timestamp": 1553618356564,
     "user": {
      "displayName": "Barthélémy Simon",
      "photoUrl": "",
      "userId": "16785405159744966004"
     },
     "user_tz": -60
    },
    "id": "zdTsTKlve1qR",
    "outputId": "23fe80ce-0575-4c35-b575-7d31326b55a9"
   },
   "outputs": [
    {
     "name": "stdout",
     "output_type": "stream",
     "text": [
      "train MAE \t 1.144789727419832 \t; test MAE\t 1.0431044779468837\n"
     ]
    }
   ],
   "source": [
    "# let's test our brand new features!!!!\n",
    "# we want the list of course\n",
    "tmp_list = [c for c in X_time_day_month.columns if '_' in c]\n",
    "tmp_list.remove('date_format')\n",
    "tmp_list.remove('day_year')\n",
    "tmp_list.remove('day_week')\n",
    "col_list = tmp_list + ['T', 'RH', 'AH']\n",
    "# and then ususal performance measuring setup.\n",
    "X_train = X_time_day_month[~X_time_day_month.weekname.isin(test_weeks)][col_list]\n",
    "X_test = X_time_day_month[X_time_day_month.weekname.isin(test_weeks)][col_list]\n",
    "Y_train = training_set['CO(GT)'].as_matrix().ravel()\n",
    "Y_test = testing_set['CO(GT)'].as_matrix().ravel()\n",
    "clf = Ridge(alpha=1)\n",
    "clf.fit(X_train, Y_train)\n",
    "print('train MAE \\t', mean_absolute_error(Y_train, clf.predict(X_train)), '\\t; test MAE\\t', mean_absolute_error(Y_test, clf.predict(X_test)))"
   ]
  },
  {
   "cell_type": "markdown",
   "metadata": {
    "colab_type": "text",
    "id": "LyDe_0Pze1qj"
   },
   "source": [
    "**Question** What do you think of this result? Can we expect that result if we have a look back at the boxplots made earlier?\n",
    "\n",
    "Answer here\n"
   ]
  },
  {
   "cell_type": "markdown",
   "metadata": {
    "colab_type": "text",
    "id": "xyNknOQEe1qp"
   },
   "source": [
    "Well, no improvement with feature engineering happens all the time. Feature engineering is an art, and most of the time what you try does not work. Just keep this trick in mind for the day it might apply. Other ideas (not exhaustive)\n",
    "- only keep the N most frequent possibilites for one hot encoding\n",
    "- pre-cluster the possibilities, either there is a natural structure (like day/night for hours, seasons for months), or just use other features to run your favorite clustering algorithm\n",
    "\n",
    "\n",
    "## 2. Numerical features <a name=\"numerical\"></a>\n",
    "Ok, actually we have not looked at all at numerical features, and there may be some work to do there as well! First thing is to plot the distribution, remove potential outliers. Let's look at our target variable CO(GT)!!"
   ]
  },
  {
   "cell_type": "code",
   "execution_count": 39,
   "metadata": {
    "colab": {
     "base_uri": "https://localhost:8080/",
     "height": 300
    },
    "colab_type": "code",
    "executionInfo": {
     "elapsed": 890,
     "status": "ok",
     "timestamp": 1553618463000,
     "user": {
      "displayName": "Barthélémy Simon",
      "photoUrl": "",
      "userId": "16785405159744966004"
     },
     "user_tz": -60
    },
    "id": "t7XUNbThe1qz",
    "outputId": "dc0e89d3-02e4-4903-acf6-0ee6dde5e03a"
   },
   "outputs": [
    {
     "data": {
      "text/plain": [
       "<matplotlib.axes._subplots.AxesSubplot at 0x7f55ca3d7eb8>"
      ]
     },
     "execution_count": 39,
     "metadata": {
      "tags": []
     },
     "output_type": "execute_result"
    },
    {
     "data": {
      "image/png": "[encoded data removed]",
      "text/plain": [
       "<Figure size 432x288 with 1 Axes>"
      ]
     },
     "metadata": {
      "tags": []
     },
     "output_type": "display_data"
    }
   ],
   "source": [
    "sns.distplot(airdata_nona_small['CO(GT)'])"
   ]
  },
  {
   "cell_type": "markdown",
   "metadata": {
    "colab_type": "text",
    "id": "-HkqdFaEe1rC"
   },
   "source": [
    "**Question** What can you say about the distribution? Are there outliers? What probability law can you recognize (or not)? Why? Can you think of a transformation we could apply to data? \n",
    "\n",
    "__Réponse__ La distribution ressemble à une gaussienne. On remarque cependant 2 pics. Nous pourrions essayer de réduire et de centrer cette gaussienne."
   ]
  },
  {
   "cell_type": "code",
   "execution_count": 40,
   "metadata": {
    "colab": {
     "base_uri": "https://localhost:8080/",
     "height": 300
    },
    "colab_type": "code",
    "executionInfo": {
     "elapsed": 919,
     "status": "ok",
     "timestamp": 1553618563628,
     "user": {
      "displayName": "Barthélémy Simon",
      "photoUrl": "",
      "userId": "16785405159744966004"
     },
     "user_tz": -60
    },
    "id": "8nGIVX3be1rD",
    "outputId": "e4865543-dc5b-4a7a-9ecf-8e1c9b72ce56"
   },
   "outputs": [
    {
     "data": {
      "text/plain": [
       "<matplotlib.axes._subplots.AxesSubplot at 0x7f55c7acae48>"
      ]
     },
     "execution_count": 40,
     "metadata": {
      "tags": []
     },
     "output_type": "execute_result"
    },
    {
     "data": {
      "image/png": "[encoded data removed]",
      "text/plain": [
       "<Figure size 432x288 with 1 Axes>"
      ]
     },
     "metadata": {
      "tags": []
     },
     "output_type": "display_data"
    }
   ],
   "source": [
    "sns.distplot(np.log(airdata_nona_small['CO(GT)']))"
   ]
  },
  {
   "cell_type": "markdown",
   "metadata": {
    "colab_type": "text",
    "id": "KMRgh1ICe1rR"
   },
   "source": [
    "We went for the log. You can find more about [log-normal distribution](https://en.wikipedia.org/wiki/Log-normal_distribution). Let's see if performance is higher with normally-distributed target variable."
   ]
  },
  {
   "cell_type": "code",
   "execution_count": 41,
   "metadata": {
    "colab": {
     "base_uri": "https://localhost:8080/",
     "height": 34
    },
    "colab_type": "code",
    "executionInfo": {
     "elapsed": 641,
     "status": "ok",
     "timestamp": 1553618665001,
     "user": {
      "displayName": "Barthélémy Simon",
      "photoUrl": "",
      "userId": "16785405159744966004"
     },
     "user_tz": -60
    },
    "id": "keUI70jie1rT",
    "outputId": "def803ab-3f0c-45b3-86cd-26301ab9fdc4"
   },
   "outputs": [
    {
     "name": "stdout",
     "output_type": "stream",
     "text": [
      "train MAE log target \t 0.7837507538558939 \t; test MAE log target\t 0.6985120781006456\n"
     ]
    }
   ],
   "source": [
    "# final best perf\n",
    "X = pd.get_dummies(airdata_nona_small, columns=['day_week', 'hour', 'month'])\n",
    "col_list = [c for c in X.columns if '_' in c]\n",
    "col_list.remove('day_year')\n",
    "col_list.remove('date_format')\n",
    "col_list += ['T', 'RH', 'AH']\n",
    "X_train = X[~X.weekname.isin(test_weeks)][col_list]\n",
    "X_test = X[X.weekname.isin(test_weeks)][col_list]\n",
    "Y_train = training_set['CO(GT)'].as_matrix().ravel()\n",
    "Y_test = testing_set['CO(GT)'].as_matrix().ravel()\n",
    "clf = Ridge(alpha=1)\n",
    "clf.fit(X_train, np.log(Y_train))\n",
    "print('train MAE log target \\t', mean_absolute_error(Y_train, np.exp(clf.predict(X_train))), '\\t; test MAE log target\\t', mean_absolute_error(Y_test, np.exp(clf.predict(X_test))))"
   ]
  },
  {
   "cell_type": "markdown",
   "metadata": {
    "colab_type": "text",
    "id": "GoU3eZdBe1rh"
   },
   "source": [
    "And a little improvement here as well. Most algorithms deal better with regular normally-distributed data. Another possible transformation is the [box-cox](https://en.wikipedia.org/wiki/Power_transform). It is close to the logarithm, but more parametrizable to really obtain a normal distribution. In our case, it works the same as the log, but to keep in your toolbox."
   ]
  },
  {
   "cell_type": "code",
   "execution_count": 42,
   "metadata": {
    "colab": {
     "base_uri": "https://localhost:8080/",
     "height": 34
    },
    "colab_type": "code",
    "executionInfo": {
     "elapsed": 1646,
     "status": "ok",
     "timestamp": 1553618701113,
     "user": {
      "displayName": "Barthélémy Simon",
      "photoUrl": "",
      "userId": "16785405159744966004"
     },
     "user_tz": -60
    },
    "id": "H0RJyWXhe1rk",
    "outputId": "ddb6e479-a77d-4c3a-c981-cef62a81a621"
   },
   "outputs": [
    {
     "name": "stdout",
     "output_type": "stream",
     "text": [
      "0.7799951086419784 0.7021350438599867\n"
     ]
    }
   ],
   "source": [
    "def invboxcox(y,ld):\n",
    "   if ld == 0:\n",
    "      return(np.exp(y))\n",
    "   else:\n",
    "      return(np.exp(np.log(ld*y+1)/ld))\n",
    "    \n",
    "l, opt_lambda = spstats.boxcox(Y_train)    \n",
    "# final best perf\n",
    "X = pd.get_dummies(airdata_nona_small, columns=['day_week', 'hour', 'month'])\n",
    "col_list = [c for c in X.columns if '_' in c]\n",
    "col_list.remove('day_year')\n",
    "col_list.remove('date_format')\n",
    "col_list += ['T', 'RH', 'AH']\n",
    "X_train = X[~X.weekname.isin(test_weeks)][col_list]\n",
    "X_test = X[X.weekname.isin(test_weeks)][col_list]\n",
    "Y_train = training_set['CO(GT)'].as_matrix().ravel()\n",
    "Y_test = testing_set['CO(GT)'].as_matrix().ravel()\n",
    "clf = Ridge(alpha=1)\n",
    "l, opt_lambda = spstats.boxcox(Y_train) \n",
    "clf.fit(X_train, l)\n",
    "print(mean_absolute_error(Y_train, invboxcox(clf.predict(X_train), opt_lambda)), mean_absolute_error(Y_test, invboxcox(clf.predict(X_test), opt_lambda)))"
   ]
  },
  {
   "cell_type": "code",
   "execution_count": 43,
   "metadata": {
    "colab": {
     "base_uri": "https://localhost:8080/",
     "height": 286
    },
    "colab_type": "code",
    "executionInfo": {
     "elapsed": 1487,
     "status": "ok",
     "timestamp": 1553618709623,
     "user": {
      "displayName": "Barthélémy Simon",
      "photoUrl": "",
      "userId": "16785405159744966004"
     },
     "user_tz": -60
    },
    "id": "rYfTg3IGe1rp",
    "outputId": "6e768b1b-2a96-4d6f-a7bf-5e4f6d97f831"
   },
   "outputs": [
    {
     "data": {
      "text/plain": [
       "<matplotlib.axes._subplots.AxesSubplot at 0x7f55c7a677b8>"
      ]
     },
     "execution_count": 43,
     "metadata": {
      "tags": []
     },
     "output_type": "execute_result"
    },
    {
     "data": {
      "image/png": "[encoded data removed]",
      "text/plain": [
       "<Figure size 432x288 with 1 Axes>"
      ]
     },
     "metadata": {
      "tags": []
     },
     "output_type": "display_data"
    }
   ],
   "source": [
    "# let's have a look at the distribution!!\n",
    "sns.distplot(l)"
   ]
  },
  {
   "cell_type": "markdown",
   "metadata": {
    "colab_type": "text",
    "id": "sTqvJh7Ke1r1"
   },
   "source": [
    "**Question** What can you say about this distribution? Which one looks closer to a gaussian between box-cox and log? Does box-cox improve performance here? decrease?\n",
    "\n",
    "__Réponse__ Le box-cox ressemble plus à une gaussienne. Cependant, elle fonctionne moins bien que le log."
   ]
  },
  {
   "cell_type": "markdown",
   "metadata": {
    "colab_type": "text",
    "id": "iDN9ZHmWe1r2"
   },
   "source": [
    "## 3. Dimensionality reduction <a name=\"PCA\"></a>\n",
    "Another case where feature engineering is crucial is when you have too many features. This is painful to store, very long to run an algorithm, even to make a prediction. Moreover, there might be noise in your data, and dimensionality reduction can even improve your performance!! There are many methods, to learn a new space of smaller dimension called [manifold](http://scikit-learn.org/stable/modules/manifold.html#locally-linear-embedding) where your data lives, or to [reduce the dimensions](http://scikit-learn.org/stable/modules/unsupervised_reduction.html). Here we will detail an example of PCA.\n",
    "\n",
    "So let's switch to a new dataset. It consists in mutant p53 proteins, i.e. the p53 protein, a key protein for cancer, has a modification. The goal is to predict from physical measurements whether it is still active or not. There are a total of 5409 attributes per instance. \n",
    "\n",
    "- Attributes 1-4826 represent 2D electrostatic and surface based features. \n",
    "- Attributes 4827-5408 represent 3D distance based features. \n",
    "- Attribute 5409 is the class attribute, which is either active or inactive. "
   ]
  },
  {
   "cell_type": "code",
   "execution_count": 4,
   "metadata": {
    "colab": {
     "base_uri": "https://localhost:8080/",
     "height": 34
    },
    "colab_type": "code",
    "executionInfo": {
     "elapsed": 6678,
     "status": "ok",
     "timestamp": 1553676336515,
     "user": {
      "displayName": "Barthélémy Simon",
      "photoUrl": "",
      "userId": "16785405159744966004"
     },
     "user_tz": -60
    },
    "id": "qWkiwIvme1r6",
    "outputId": "0c089d90-7960-4e31-e6b5-5560f4e9ded6"
   },
   "outputs": [
    {
     "name": "stdout",
     "output_type": "stream",
     "text": [
      "Drive already mounted at /content/gdrive; to attempt to forcibly remount, call drive.mount(\"/content/gdrive\", force_remount=True).\n"
     ]
    }
   ],
   "source": [
    "# let's read the data. \n",
    "\n",
    "# Décommenter si on le fait tourner sur Colab\n",
    "from google.colab import drive\n",
    "drive.mount('/content/gdrive')\n",
    "\n",
    "active = pd.read_csv('/content/gdrive/My Drive/Colab Notebooks/K9_active.csv', header=None, na_values='?')\n",
    "inactive = pd.read_csv('/content/gdrive/My Drive/Colab Notebooks/K9_inactive3000.csv', header=None, na_values='?')\n",
    "\n",
    "# Décommenter si on le fait tourner directement sur l'ordi ou sur Jupyter\n",
    "#active = pd.read_csv('data/K9_active.csv', header=None, na_values='?')\n",
    "#inactive = pd.read_csv('data/K9_inactive3000.csv', header=None, na_values='?')\n",
    "\n",
    "data = pd.concat((active, inactive), axis=0)"
   ]
  },
  {
   "cell_type": "code",
   "execution_count": 5,
   "metadata": {
    "colab": {
     "base_uri": "https://localhost:8080/",
     "height": 34
    },
    "colab_type": "code",
    "executionInfo": {
     "elapsed": 629,
     "status": "ok",
     "timestamp": 1553676339954,
     "user": {
      "displayName": "Barthélémy Simon",
      "photoUrl": "",
      "userId": "16785405159744966004"
     },
     "user_tz": -60
    },
    "id": "rvny2frze1sE",
    "outputId": "400213c2-21bf-440b-cba6-c9cba627aa60"
   },
   "outputs": [
    {
     "data": {
      "text/plain": [
       "(3151, 5410)"
      ]
     },
     "execution_count": 5,
     "metadata": {
      "tags": []
     },
     "output_type": "execute_result"
    }
   ],
   "source": [
    "data.shape"
   ]
  },
  {
   "cell_type": "code",
   "execution_count": 6,
   "metadata": {
    "colab": {
     "base_uri": "https://localhost:8080/",
     "height": 236
    },
    "colab_type": "code",
    "executionInfo": {
     "elapsed": 1168,
     "status": "ok",
     "timestamp": 1553676367223,
     "user": {
      "displayName": "Barthélémy Simon",
      "photoUrl": "",
      "userId": "16785405159744966004"
     },
     "user_tz": -60
    },
    "id": "xAPnJmeXe1sT",
    "outputId": "694d5101-e8f2-4ad7-ba68-a2c82e703676"
   },
   "outputs": [
    {
     "data": {
      "text/html": [
       "<div>\n",
       "<style scoped>\n",
       "    .dataframe tbody tr th:only-of-type {\n",
       "        vertical-align: middle;\n",
       "    }\n",
       "\n",
       "    .dataframe tbody tr th {\n",
       "        vertical-align: top;\n",
       "    }\n",
       "\n",
       "    .dataframe thead th {\n",
       "        text-align: right;\n",
       "    }\n",
       "</style>\n",
       "<table border=\"1\" class=\"dataframe\">\n",
       "  <thead>\n",
       "    <tr style=\"text-align: right;\">\n",
       "      <th></th>\n",
       "      <th>0</th>\n",
       "      <th>1</th>\n",
       "      <th>2</th>\n",
       "      <th>3</th>\n",
       "      <th>4</th>\n",
       "      <th>5</th>\n",
       "      <th>6</th>\n",
       "      <th>7</th>\n",
       "      <th>8</th>\n",
       "      <th>9</th>\n",
       "      <th>...</th>\n",
       "      <th>5400</th>\n",
       "      <th>5401</th>\n",
       "      <th>5402</th>\n",
       "      <th>5403</th>\n",
       "      <th>5404</th>\n",
       "      <th>5405</th>\n",
       "      <th>5406</th>\n",
       "      <th>5407</th>\n",
       "      <th>5408</th>\n",
       "      <th>5409</th>\n",
       "    </tr>\n",
       "  </thead>\n",
       "  <tbody>\n",
       "    <tr>\n",
       "      <th>0</th>\n",
       "      <td>-3.272</td>\n",
       "      <td>-0.168</td>\n",
       "      <td>0.113</td>\n",
       "      <td>0.064</td>\n",
       "      <td>0.057</td>\n",
       "      <td>-0.050</td>\n",
       "      <td>0.084</td>\n",
       "      <td>0.097</td>\n",
       "      <td>0.089</td>\n",
       "      <td>-0.078</td>\n",
       "      <td>...</td>\n",
       "      <td>-0.019</td>\n",
       "      <td>-0.014</td>\n",
       "      <td>0.005</td>\n",
       "      <td>-0.037</td>\n",
       "      <td>-0.012</td>\n",
       "      <td>-0.011</td>\n",
       "      <td>0.006</td>\n",
       "      <td>0.028</td>\n",
       "      <td>active</td>\n",
       "      <td>NaN</td>\n",
       "    </tr>\n",
       "    <tr>\n",
       "      <th>1</th>\n",
       "      <td>-0.141</td>\n",
       "      <td>0.035</td>\n",
       "      <td>-0.015</td>\n",
       "      <td>0.023</td>\n",
       "      <td>0.059</td>\n",
       "      <td>-0.143</td>\n",
       "      <td>-0.018</td>\n",
       "      <td>-0.006</td>\n",
       "      <td>-0.010</td>\n",
       "      <td>0.018</td>\n",
       "      <td>...</td>\n",
       "      <td>-0.023</td>\n",
       "      <td>-0.024</td>\n",
       "      <td>-0.002</td>\n",
       "      <td>-0.054</td>\n",
       "      <td>-0.011</td>\n",
       "      <td>-0.016</td>\n",
       "      <td>0.007</td>\n",
       "      <td>0.039</td>\n",
       "      <td>active</td>\n",
       "      <td>NaN</td>\n",
       "    </tr>\n",
       "    <tr>\n",
       "      <th>2</th>\n",
       "      <td>-0.166</td>\n",
       "      <td>-0.019</td>\n",
       "      <td>0.000</td>\n",
       "      <td>-0.041</td>\n",
       "      <td>-0.038</td>\n",
       "      <td>-0.093</td>\n",
       "      <td>0.029</td>\n",
       "      <td>0.008</td>\n",
       "      <td>0.003</td>\n",
       "      <td>-0.017</td>\n",
       "      <td>...</td>\n",
       "      <td>0.022</td>\n",
       "      <td>0.016</td>\n",
       "      <td>0.023</td>\n",
       "      <td>0.016</td>\n",
       "      <td>-0.013</td>\n",
       "      <td>0.005</td>\n",
       "      <td>0.010</td>\n",
       "      <td>-0.009</td>\n",
       "      <td>active</td>\n",
       "      <td>NaN</td>\n",
       "    </tr>\n",
       "    <tr>\n",
       "      <th>3</th>\n",
       "      <td>-0.175</td>\n",
       "      <td>-0.036</td>\n",
       "      <td>-0.022</td>\n",
       "      <td>-0.058</td>\n",
       "      <td>-0.061</td>\n",
       "      <td>-0.043</td>\n",
       "      <td>0.052</td>\n",
       "      <td>0.022</td>\n",
       "      <td>0.015</td>\n",
       "      <td>-0.014</td>\n",
       "      <td>...</td>\n",
       "      <td>0.004</td>\n",
       "      <td>0.033</td>\n",
       "      <td>0.032</td>\n",
       "      <td>0.029</td>\n",
       "      <td>-0.014</td>\n",
       "      <td>0.009</td>\n",
       "      <td>0.023</td>\n",
       "      <td>-0.031</td>\n",
       "      <td>active</td>\n",
       "      <td>NaN</td>\n",
       "    </tr>\n",
       "    <tr>\n",
       "      <th>4</th>\n",
       "      <td>-0.158</td>\n",
       "      <td>-0.004</td>\n",
       "      <td>-0.014</td>\n",
       "      <td>-0.026</td>\n",
       "      <td>-0.011</td>\n",
       "      <td>-0.099</td>\n",
       "      <td>0.013</td>\n",
       "      <td>0.006</td>\n",
       "      <td>0.002</td>\n",
       "      <td>-0.000</td>\n",
       "      <td>...</td>\n",
       "      <td>-0.005</td>\n",
       "      <td>0.004</td>\n",
       "      <td>0.015</td>\n",
       "      <td>-0.011</td>\n",
       "      <td>-0.012</td>\n",
       "      <td>-0.005</td>\n",
       "      <td>0.012</td>\n",
       "      <td>0.006</td>\n",
       "      <td>active</td>\n",
       "      <td>NaN</td>\n",
       "    </tr>\n",
       "  </tbody>\n",
       "</table>\n",
       "<p>5 rows × 5410 columns</p>\n",
       "</div>"
      ],
      "text/plain": [
       "    0      1      2      3      4      5      6      7      8      9     ...   \\\n",
       "0 -3.272 -0.168  0.113  0.064  0.057 -0.050  0.084  0.097  0.089 -0.078  ...    \n",
       "1 -0.141  0.035 -0.015  0.023  0.059 -0.143 -0.018 -0.006 -0.010  0.018  ...    \n",
       "2 -0.166 -0.019  0.000 -0.041 -0.038 -0.093  0.029  0.008  0.003 -0.017  ...    \n",
       "3 -0.175 -0.036 -0.022 -0.058 -0.061 -0.043  0.052  0.022  0.015 -0.014  ...    \n",
       "4 -0.158 -0.004 -0.014 -0.026 -0.011 -0.099  0.013  0.006  0.002 -0.000  ...    \n",
       "\n",
       "    5400   5401   5402   5403   5404   5405   5406   5407    5408  5409  \n",
       "0 -0.019 -0.014  0.005 -0.037 -0.012 -0.011  0.006  0.028  active   NaN  \n",
       "1 -0.023 -0.024 -0.002 -0.054 -0.011 -0.016  0.007  0.039  active   NaN  \n",
       "2  0.022  0.016  0.023  0.016 -0.013  0.005  0.010 -0.009  active   NaN  \n",
       "3  0.004  0.033  0.032  0.029 -0.014  0.009  0.023 -0.031  active   NaN  \n",
       "4 -0.005  0.004  0.015 -0.011 -0.012 -0.005  0.012  0.006  active   NaN  \n",
       "\n",
       "[5 rows x 5410 columns]"
      ]
     },
     "execution_count": 6,
     "metadata": {
      "tags": []
     },
     "output_type": "execute_result"
    }
   ],
   "source": [
    "data.head()"
   ]
  },
  {
   "cell_type": "code",
   "execution_count": 9,
   "metadata": {
    "colab": {
     "base_uri": "https://localhost:8080/",
     "height": 69
    },
    "colab_type": "code",
    "executionInfo": {
     "elapsed": 801,
     "status": "ok",
     "timestamp": 1553676532222,
     "user": {
      "displayName": "Barthélémy Simon",
      "photoUrl": "",
      "userId": "16785405159744966004"
     },
     "user_tz": -60
    },
    "id": "lwKiVeOue1sY",
    "outputId": "4fe51c89-f2c4-4da7-9d2a-c7a5447c408d"
   },
   "outputs": [
    {
     "data": {
      "text/plain": [
       "inactive    2940\n",
       "active       151\n",
       "Name: 5408, dtype: int64"
      ]
     },
     "execution_count": 9,
     "metadata": {
      "tags": []
     },
     "output_type": "execute_result"
    }
   ],
   "source": [
    "# drop na\n",
    "data = data.dropna(subset=range(5408))\n",
    "data[5408].value_counts()"
   ]
  },
  {
   "cell_type": "code",
   "execution_count": 0,
   "metadata": {
    "colab": {},
    "colab_type": "code",
    "id": "Shg8Aa-Ge1sm"
   },
   "outputs": [],
   "source": [
    "# prepare data - separate in train-test-split\n",
    "X = data[list(range(5408))].as_matrix()\n",
    "Y = (data[[5408]]=='inactive').astype(bool).astype(int).as_matrix().ravel()\n",
    "X_train, X_test, Y_train, Y_test = train_test_split(X, Y, test_size=0.3, stratify=Y)"
   ]
  },
  {
   "cell_type": "code",
   "execution_count": 11,
   "metadata": {
    "colab": {
     "base_uri": "https://localhost:8080/",
     "height": 141
    },
    "colab_type": "code",
    "executionInfo": {
     "elapsed": 10166,
     "status": "ok",
     "timestamp": 1553676644397,
     "user": {
      "displayName": "Barthélémy Simon",
      "photoUrl": "",
      "userId": "16785405159744966004"
     },
     "user_tz": -60
    },
    "id": "eHbABaOxe1sz",
    "outputId": "72bdab60-f407-4fba-faa3-501461b2f859"
   },
   "outputs": [
    {
     "name": "stderr",
     "output_type": "stream",
     "text": [
      "/usr/local/lib/python3.6/dist-packages/sklearn/linear_model/logistic.py:433: FutureWarning: Default solver will be changed to 'lbfgs' in 0.22. Specify a solver to silence this warning.\n",
      "  FutureWarning)\n"
     ]
    },
    {
     "data": {
      "text/plain": [
       "LogisticRegression(C=1.0, class_weight=None, dual=False, fit_intercept=True,\n",
       "          intercept_scaling=1, max_iter=100, multi_class='warn',\n",
       "          n_jobs=None, penalty='l2', random_state=None, solver='warn',\n",
       "          tol=0.0001, verbose=0, warm_start=False)"
      ]
     },
     "execution_count": 11,
     "metadata": {
      "tags": []
     },
     "output_type": "execute_result"
    }
   ],
   "source": [
    "# train a logistic regression model, and display results\n",
    "logistic = LogisticRegression()\n",
    "logistic.fit(X_train, Y_train)\n"
   ]
  },
  {
   "cell_type": "code",
   "execution_count": 12,
   "metadata": {
    "colab": {
     "base_uri": "https://localhost:8080/",
     "height": 34
    },
    "colab_type": "code",
    "executionInfo": {
     "elapsed": 616,
     "status": "ok",
     "timestamp": 1553676654899,
     "user": {
      "displayName": "Barthélémy Simon",
      "photoUrl": "",
      "userId": "16785405159744966004"
     },
     "user_tz": -60
    },
    "id": "RfkGao4Le1s8",
    "outputId": "c5622b29-5304-40fc-dc29-98137fced47f"
   },
   "outputs": [
    {
     "data": {
      "text/plain": [
       "0.9838362068965517"
      ]
     },
     "execution_count": 12,
     "metadata": {
      "tags": []
     },
     "output_type": "execute_result"
    }
   ],
   "source": [
    "# performance evaluaion - accuracy\n",
    "logistic.score(X_test, Y_test)"
   ]
  },
  {
   "cell_type": "markdown",
   "metadata": {
    "colab_type": "text",
    "id": "-UDkUDeBe1tJ"
   },
   "source": [
    "**Question** What other metrics can we use to evaluate a classification? Are they more thorough?\n",
    "\n",
    "__Réponse__ Les autres metrics sont :\n",
    "* Le Log Loss, qui marche bien quand classification dans plusieurs classes.\n",
    "* La matrice de confusion qui permet de se rendre compte de manière générale de l'efficacité.\n",
    "* L'aire sous la courbe qui marche bien pour classification binaire.\n",
    "* Le F1 qui exprime la précision mais aussi la robustesse.\n",
    "* Le MAE ou MSE qui représentent l'erreur. Le MSE est plus pratique pour descente de gradient.\n",
    "\n",
    "Cf [https://towardsdatascience.com/metrics-to-evaluate-your-machine-learning-algorithm-f10ba6e38234](https://towardsdatascience.com/metrics-to-evaluate-your-machine-learning-algorithm-f10ba6e38234)."
   ]
  },
  {
   "cell_type": "code",
   "execution_count": 13,
   "metadata": {
    "colab": {
     "base_uri": "https://localhost:8080/",
     "height": 286
    },
    "colab_type": "code",
    "executionInfo": {
     "elapsed": 749,
     "status": "ok",
     "timestamp": 1553677407360,
     "user": {
      "displayName": "Barthélémy Simon",
      "photoUrl": "",
      "userId": "16785405159744966004"
     },
     "user_tz": -60
    },
    "id": "IPYUwFu-e1tM",
    "outputId": "afa4cb2a-c7f7-4133-9ef9-06116250ddd3"
   },
   "outputs": [
    {
     "data": {
      "text/plain": [
       "<matplotlib.legend.Legend at 0x7f002e77b128>"
      ]
     },
     "execution_count": 13,
     "metadata": {
      "tags": []
     },
     "output_type": "execute_result"
    },
    {
     "data": {
      "image/png": "[encoded data removed]",
      "text/plain": [
       "<Figure size 432x288 with 1 Axes>"
      ]
     },
     "metadata": {
      "tags": []
     },
     "output_type": "display_data"
    }
   ],
   "source": [
    "# performance evaluaion - ROC curve\n",
    "fpr, tpr, _ = roc_curve(Y_test, logistic.decision_function(X_test))\n",
    "\n",
    "plt.plot([0, 1], [0, 1], 'k--')\n",
    "plt.plot(fpr, tpr, label='linear classif')\n",
    "plt.legend(loc='best')"
   ]
  },
  {
   "cell_type": "markdown",
   "metadata": {
    "colab_type": "text",
    "id": "MCLxMf9He1tY"
   },
   "source": [
    "We have a lot of dimensions. Are they all useful? Let's apply a Principal Component Analysis. You can find a good introduction to PCA [here](https://web.stanford.edu/~hastie/Papers/ESLII.pdf), in setion 14.5. Very important: always standardize your variables before applying PCA. To do it in a clean way, we are using Scikit-learn' [pipelines](http://scikit-learn.org/stable/modules/pipeline.html#pipeline)."
   ]
  },
  {
   "cell_type": "code",
   "execution_count": 0,
   "metadata": {
    "colab": {},
    "colab_type": "code",
    "id": "v-2i-vtNe1tc"
   },
   "outputs": [],
   "source": [
    "# Let's apply PCA\n",
    "target_names = Y_train\n",
    "\n",
    "std_clf = make_pipeline(StandardScaler(), PCA(n_components=500))\n",
    "X_r = std_clf.fit(X_train).transform(X_train)\n",
    "\n",
    "pca_std = std_clf.named_steps['pca']"
   ]
  },
  {
   "cell_type": "code",
   "execution_count": 15,
   "metadata": {
    "colab": {
     "base_uri": "https://localhost:8080/",
     "height": 234
    },
    "colab_type": "code",
    "executionInfo": {
     "elapsed": 920,
     "status": "ok",
     "timestamp": 1553677593075,
     "user": {
      "displayName": "Barthélémy Simon",
      "photoUrl": "",
      "userId": "16785405159744966004"
     },
     "user_tz": -60
    },
    "id": "hScvTsN-e1to",
    "outputId": "0a91ef66-7407-443a-96c1-490f86164e60"
   },
   "outputs": [
    {
     "data": {
      "text/plain": [
       "Text(0, 0.5, 'explained_variance_')"
      ]
     },
     "execution_count": 15,
     "metadata": {
      "tags": []
     },
     "output_type": "execute_result"
    },
    {
     "data": {
      "image/png": "[encoded data removed]",
      "text/plain": [
       "<Figure size 288x216 with 1 Axes>"
      ]
     },
     "metadata": {
      "tags": []
     },
     "output_type": "display_data"
    }
   ],
   "source": [
    "# How do we choose the number of components: Percentage of variance explained for each components\n",
    "plt.figure(1, figsize=(4, 3))\n",
    "plt.clf()\n",
    "plt.axes([.2, .2, .7, .7])\n",
    "plt.plot(np.cumsum(pca_std.explained_variance_ratio_), linewidth=2)\n",
    "plt.axis('tight')\n",
    "plt.xlabel('n_components')\n",
    "plt.ylabel('explained_variance_')"
   ]
  },
  {
   "cell_type": "markdown",
   "metadata": {
    "colab_type": "text",
    "id": "kQZbcCwce1ts"
   },
   "source": [
    "**Question** We have represented the cumulative explained variance as a function of the number of retained components. Does it keep improving at the same pace? When does the improvement slow down? What can you deduce for the number of informative components? What other criteria could be used to choose the number of components?\n",
    "\n",
    "__Réponse__ La fonction croît moins vite au bout de 100 composants. Cela veut dire que l'utilité d'avoir 200 éléments au lieu de 100 est inférieure à celle de 100 éléments au lieu de 50. On pourrais aussi se renseigner sur l'utilité propre de certains critères."
   ]
  },
  {
   "cell_type": "code",
   "execution_count": 16,
   "metadata": {
    "colab": {
     "base_uri": "https://localhost:8080/",
     "height": 186
    },
    "colab_type": "code",
    "executionInfo": {
     "elapsed": 1269,
     "status": "ok",
     "timestamp": 1553677710888,
     "user": {
      "displayName": "Barthélémy Simon",
      "photoUrl": "",
      "userId": "16785405159744966004"
     },
     "user_tz": -60
    },
    "id": "DWtyKHf_e1t0",
    "outputId": "cfbbfb44-0e5c-46b4-bf98-024865b29ea7"
   },
   "outputs": [
    {
     "data": {
      "image/png": "[encoded data removed]",
      "text/plain": [
       "<Figure size 432x288 with 2 Axes>"
      ]
     },
     "metadata": {
      "tags": []
     },
     "output_type": "display_data"
    }
   ],
   "source": [
    "# PCA can also be used to visualize data.\n",
    "plt.figure(2)\n",
    "plt.subplot(121)\n",
    "colors = ['darkorange', 'navy']\n",
    "lw = 2\n",
    "for color, i, target_name in zip(colors, [1, 0], target_names):\n",
    "    plt.scatter(X_r[Y_train == i, 0], X_r[Y_train == i, 1], color=color, alpha=.8, lw=lw,\n",
    "                label=str(i))\n",
    "plt.legend(loc='best', shadow=False, scatterpoints=1)\n",
    "plt.xlabel('PCA1')\n",
    "plt.ylabel('PCA2')\n",
    "plt.title('PCA of P53 dataset (PC2 vs PC1)')\n",
    "\n",
    "plt.subplot(122)\n",
    "colors = ['darkorange', 'navy']\n",
    "lw = 2\n",
    "for color, i, target_name in zip(colors, [1, 0], target_names):\n",
    "    plt.scatter(X_r[Y_train == i, 7], X_r[Y_train == i, 2], color=color, alpha=.8, lw=lw,\n",
    "                label=str(i))\n",
    "plt.legend(loc='best', shadow=False, scatterpoints=1)\n",
    "plt.xlabel('PCA8')\n",
    "plt.ylabel('PCA3')\n",
    "plt.title('PCA of P53 dataset (PC3 vs PC8)')\n",
    "\n",
    "plt.subplots_adjust(left=.1, wspace=1, top=.5)"
   ]
  },
  {
   "cell_type": "markdown",
   "metadata": {
    "colab_type": "text",
    "id": "KGPyENUje1uF"
   },
   "source": [
    "**Question** Comment.\n",
    "\n",
    "__Réponse__ On constate que, sur le premier graphe, tous les éléments inactifs se trouvent dans une certaine zone. On pourra identifier les éléments actifs à l'extérieur. Mais, où placer la limite ? Sur le 2ème graphe, il y a une zone mixte, difficile à traiter mais aussi des zones très éloignées sans aucun élément inactifs qui seront très intéressantes.\n",
    "\n",
    "Now let's see how it affects classification performance"
   ]
  },
  {
   "cell_type": "code",
   "execution_count": 42,
   "metadata": {
    "colab": {
     "base_uri": "https://localhost:8080/",
     "height": 358
    },
    "colab_type": "code",
    "executionInfo": {
     "elapsed": 1434,
     "status": "ok",
     "timestamp": 1553679743318,
     "user": {
      "displayName": "Barthélémy Simon",
      "photoUrl": "",
      "userId": "16785405159744966004"
     },
     "user_tz": -60
    },
    "id": "2b5850gRe1uI",
    "outputId": "253bb556-aa35-4231-baf6-95874d4e530f"
   },
   "outputs": [
    {
     "name": "stderr",
     "output_type": "stream",
     "text": [
      "/usr/local/lib/python3.6/dist-packages/sklearn/linear_model/logistic.py:433: FutureWarning: Default solver will be changed to 'lbfgs' in 0.22. Specify a solver to silence this warning.\n",
      "  FutureWarning)\n"
     ]
    },
    {
     "name": "stdout",
     "output_type": "stream",
     "text": [
      "0.9881465517241379\n"
     ]
    },
    {
     "data": {
      "text/plain": [
       "<matplotlib.legend.Legend at 0x7f00282c9208>"
      ]
     },
     "execution_count": 42,
     "metadata": {
      "tags": []
     },
     "output_type": "execute_result"
    },
    {
     "data": {
      "image/png": "[encoded data removed]",
      "text/plain": [
       "<Figure size 432x288 with 1 Axes>"
      ]
     },
     "metadata": {
      "tags": []
     },
     "output_type": "display_data"
    }
   ],
   "source": [
    "# let's choose a number of components to use in classification (try to vary it and look how it affects results.)\n",
    "N_features = 100\n",
    "\n",
    "# let's run the same logistic regression as before, with our new input features\n",
    "logistic = LogisticRegression()\n",
    "logistic.fit(X_r[:,:N_features], Y_train)\n",
    "\n",
    "X_test_r = std_clf.transform(X_test)[:,:N_features]\n",
    "fpr_r, tpr_r, _ = roc_curve(Y_test, logistic.decision_function(X_test_r))\n",
    "\n",
    "print(logistic.score(X_test_r, Y_test))\n",
    "\n",
    "plt.figure(1)\n",
    "plt.plot([0, 1], [0, 1], 'k--')\n",
    "\n",
    "plt.plot(fpr, tpr, label='linear classif')\n",
    "plt.plot(fpr_r, tpr_r, label='PCA{} + linear classif'.format(N_features))\n",
    "plt.legend(loc='best')"
   ]
  },
  {
   "cell_type": "markdown",
   "metadata": {
    "colab_type": "text",
    "id": "8s-rej65e1uL"
   },
   "source": [
    "Depending on the seed, you may already have very good performances with the original features. With PCA, you have results at least as good with 50 times fewer dimensions!! As an exercise, you can also try to make 2 distinct PCAs for the 2 types of features in the dataset, as they may have different variances. Here you already have satisfying results, but that is a trick to remember.\n",
    "\n",
    "There are many other methods to achieve reduction of dimension. See chapter 14 of the Elements of statistical learning, Hastie, Tibshirani, Friedman and scikit learn documentation [here](http://scikit-learn.org/stable/modules/decomposition.html) or [here](http://scikit-learn.org/stable/modules/manifold.html)."
   ]
  },
  {
   "cell_type": "markdown",
   "metadata": {
    "colab_type": "text",
    "id": "zZWJej-se1uM"
   },
   "source": [
    "## Datasets origins\n",
    "The **P53 dataset** is adapted from [UCI](https://archive.ics.uci.edu/ml/datasets/p53+Mutants), originally extracted from the following papers\n",
    "\n",
    "Danziger, S.A., Baronio, R., Ho, L., Hall, L., Salmon, K., Hatfield, G.W., Kaiser, P., and Lathrop, R.H. (2009) Predicting Positive p53 Cancer Rescue Regions Using Most Informative Positive (MIP) Active Learning, PLOS Computational Biology, 5(9), e1000498 \n",
    "\n",
    "Danziger, S.A., Zeng, J., Wang, Y., Brachmann, R.K. and Lathrop, R.H. (2007) Choosing where to look next in a mutation sequence space: Active Learning of informative p53 cancer rescue mutants, Bioinformatics, 23(13), 104-114. \n",
    "\n",
    "Danziger, S.A., Swamidass, S.J., Zeng, J., Dearth, L.R., Lu, Q., Chen, J.H., Cheng, J., Hoang, V.P., Saigo, H., Luo, R., Baldi, P., Brachmann, R.K. and Lathrop, R.H. (2006) Functional census of mutation sequence spaces: the example of p53 cancer rescue mutants, IEEE/ACM transactions on computational biology and bioinformatics / IEEE, ACM, 3, 114-125. \n",
    "\n",
    "\n",
    "The **Air quality dataset** is used as it is on [UCI](https://archive.ics.uci.edu/ml/datasets/Air+Quality#), originally extracted from the following paper\n",
    "\n",
    "S. De Vito, E. Massera, M. Piga, L. Martinotto, G. Di Francia, On field calibration of an electronic nose for benzene estimation in an urban pollution monitoring scenario, Sensors and Actuators B: Chemical, Volume 129, Issue 2, 22 February 2008, Pages 750-757, ISSN 0925-4005. "
   ]
  },
  {
   "cell_type": "markdown",
   "metadata": {
    "colab_type": "text",
    "id": "Ri-wDd9me1uN"
   },
   "source": [
    "## A few references to go further, but mostly practice ;)\n",
    "\n",
    "https://github.com/jakevdp/PythonDataScienceHandbook/blob/master/notebooks/05.04-Feature-Engineering.ipynb \n",
    "\n",
    "https://github.com/dipanjanS/practical-machine-learning-with-python/blob/master/notebooks/Ch04_Feature_Engineering_and_Selection/Feature%20Engineering%20on%20Numeric%20Data.ipynb\n",
    "\n",
    "https://machinelearningmastery.com/discover-feature-engineering-how-to-engineer-features-and-how-to-get-good-at-it/\n",
    "\n",
    "https://towardsdatascience.com/understanding-feature-engineering-part-4-deep-learning-methods-for-text-data-96c44370bbfa (series of 4 blog articles)"
   ]
  },
  {
   "cell_type": "code",
   "execution_count": 0,
   "metadata": {
    "colab": {},
    "colab_type": "code",
    "id": "jVmurBzGe1uR"
   },
   "outputs": [],
   "source": []
  }
 ],
 "metadata": {
  "accelerator": "GPU",
  "colab": {
   "collapsed_sections": [],
   "name": "Copie de 6_Feature_engineering_with_Python.ipynb",
   "provenance": [
    {
     "file_id": "1Jbd2eIcSeltoPz6WbJeaNvuiwJVzqgx7",
     "timestamp": 1553611875126
    }
   ],
   "version": "0.3.2"
  },
  "kernelspec": {
   "display_name": "Python 3",
   "language": "python",
   "name": "python3"
  },
  "language_info": {
   "codemirror_mode": {
    "name": "ipython",
    "version": 3
   },
   "file_extension": ".py",
   "mimetype": "text/x-python",
   "name": "python",
   "nbconvert_exporter": "python",
   "pygments_lexer": "ipython3",
   "version": "3.7.2"
  }
 },
 "nbformat": 4,
 "nbformat_minor": 1
}
