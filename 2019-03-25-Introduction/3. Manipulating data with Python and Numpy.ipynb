{
 "cells": [
  {
   "cell_type": "markdown",
   "metadata": {},
   "source": [
    "# Manipulating data with Python and Numpy: The Digits Dataset\n",
    "\n",
    "Author: [Alexandre Gramfort](http://alexandre.gramfort.net/) (Telecom ParisTech)\n",
    "with some modifications by Chloé-Agathe Azencott `chloe-agathe.azencott@mines-paristech.fr`.\n",
    "\n",
    "The goal of this notebook is to start manipulating data with Python and Numpy. We will use scikit-learn only to load the data.\n",
    "\n",
    "The data you'll be working with today is called the `digit` datasets. It contains digital images of handwritten digits."
   ]
  },
  {
   "cell_type": "code",
   "execution_count": 22,
   "metadata": {},
   "outputs": [
    {
     "name": "stdout",
     "output_type": "stream",
     "text": [
      "Populating the interactive namespace from numpy and matplotlib\n"
     ]
    }
   ],
   "source": [
    "%pylab inline\n",
    "\n",
    "# Equivalent to:\n",
    "# import numpy as np                      \n",
    "# import matplotlib.pyplot as plt "
   ]
  },
  {
   "cell_type": "markdown",
   "metadata": {},
   "source": [
    "## 1. Loading the data\n",
    "The data is available from scikit-learn (import name `sklearn`)."
   ]
  },
  {
   "cell_type": "code",
   "execution_count": 6,
   "metadata": {},
   "outputs": [
    {
     "name": "stdout",
     "output_type": "stream",
     "text": [
      "Number of samples: 1797\n",
      "Number of pixels: 64\n",
      "Number of classes: 10\n"
     ]
    }
   ],
   "source": [
    "# Load data\n",
    "from sklearn.datasets import load_digits \n",
    "\n",
    "digits = load_digits()\n",
    "\n",
    "# Get descriptors and target to predict\n",
    "X, y = digits.data, digits.target\n",
    "\n",
    "# Get the shape of the data\n",
    "print(\"Number of samples: %d\" % X.shape[0])\n",
    "print (\"Number of pixels: %d\" % X.shape[1])\n",
    "print (\"Number of classes: %d\" % len(np.unique(y))) # number of unique values in y"
   ]
  },
  {
   "cell_type": "code",
   "execution_count": 7,
   "metadata": {
    "scrolled": true
   },
   "outputs": [
    {
     "name": "stdout",
     "output_type": "stream",
     "text": [
      "[ 0.  0.  0.  0. 12.  5.  0.  0.  0.  0.  0.  2. 16. 12.  0.  0.  0.  0.\n",
      "  1. 12. 16. 11.  0.  0.  0.  2. 12. 16. 16. 10.  0.  0.  0.  6. 11.  5.\n",
      " 15.  6.  0.  0.  0.  0.  0.  1. 16.  9.  0.  0.  0.  0.  0.  2. 16. 11.\n",
      "  0.  0.  0.  0.  0.  3. 16.  8.  0.  0.]\n",
      "1\n"
     ]
    }
   ],
   "source": [
    "# Pick one sample to \"visualize\" it\n",
    "sample_idx = 42\n",
    "\n",
    "print (X[sample_idx, :])\n",
    "\n",
    "print (y[sample_idx])"
   ]
  },
  {
   "cell_type": "markdown",
   "metadata": {},
   "source": [
    "### Problem 3.1\n",
    "* What is the type of X? Of its entries?\n",
    "* What is the type of y? Of its entries?\n",
    "* Play with different values for `sample_idx`. Can you guess `y[sample_idx`]?"
   ]
  },
  {
   "cell_type": "code",
   "execution_count": 32,
   "metadata": {
    "scrolled": false
   },
   "outputs": [
    {
     "name": "stdout",
     "output_type": "stream",
     "text": [
      "Type of X: <class 'numpy.ndarray'>\n",
      "Type of X's entries: <class 'numpy.float64'>\n",
      "Type of y: <class 'numpy.ndarray'>\n",
      "Type of y's entries: <class 'numpy.int64'>\n",
      "1\n"
     ]
    }
   ],
   "source": [
    "print(\"Type of X: %s\" % type(X))\n",
    "print(\"Type of X's entries: %s\" % type(X[0][0]))\n",
    "print(\"Type of y: %s\" % type(y))\n",
    "print(\"Type of y's entries: %s\" % type(y[0]))\n",
    "print(y[sample_idx])"
   ]
  },
  {
   "cell_type": "markdown",
   "metadata": {},
   "source": [
    "## 2. Visualizing samples\n",
    "\n",
    "Each sample is a scanned image, of size 8x8, containing 64 pixels. They have been flattened out to a vector of size 64, such as `X[sample_idx, :]`. Each entry of that vector is the intensity of the corresponding pixel.\n",
    "\n",
    "Let us now visualize the original image."
   ]
  },
  {
   "cell_type": "code",
   "execution_count": 33,
   "metadata": {},
   "outputs": [
    {
     "name": "stdout",
     "output_type": "stream",
     "text": [
      "(8, 8)\n"
     ]
    }
   ],
   "source": [
    "# Reshape the vector X[sample_idx] in a 2D, 8x8 matrix\n",
    "sample_image = np.reshape(X[sample_idx, :], (8, 8))\n",
    "print(sample_image.shape)"
   ]
  },
  {
   "cell_type": "code",
   "execution_count": 34,
   "metadata": {},
   "outputs": [
    {
     "data": {
      "text/plain": [
       "<matplotlib.image.AxesImage at 0x11b980208>"
      ]
     },
     "execution_count": 34,
     "metadata": {},
     "output_type": "execute_result"
    },
    {
     "data": {
      "image/png": "[encoded data removed]",
      "text/plain": [
       "<Figure size 432x288 with 1 Axes>"
      ]
     },
     "metadata": {
      "needs_background": "light"
     },
     "output_type": "display_data"
    }
   ],
   "source": [
    "# Display the corresponding image\n",
    "plt.imshow(sample_image)"
   ]
  },
  {
   "cell_type": "code",
   "execution_count": 35,
   "metadata": {},
   "outputs": [
    {
     "data": {
      "text/plain": [
       "Text(0.5, 1.0, 'The digit of index 42 is a 1')"
      ]
     },
     "execution_count": 35,
     "metadata": {},
     "output_type": "execute_result"
    },
    {
     "data": {
      "image/png": "[encoded data removed]",
      "text/plain": [
       "<Figure size 432x288 with 1 Axes>"
      ]
     },
     "metadata": {
      "needs_background": "light"
     },
     "output_type": "display_data"
    }
   ],
   "source": [
    "# Let us improve visualization by using grayscale plotting \n",
    "plt.imshow(sample_image, cmap='gray')\n",
    "\n",
    "# Give the plot of title\n",
    "plt.title('The digit of index %d is a %d' % (sample_idx, y[sample_idx]))"
   ]
  },
  {
   "cell_type": "markdown",
   "metadata": {},
   "source": [
    "### Problem 3.2\n",
    "Plot the histogram of the values of the pixels of the above image."
   ]
  },
  {
   "cell_type": "code",
   "execution_count": 40,
   "metadata": {},
   "outputs": [
    {
     "data": {
      "text/plain": [
       "(array([38.,  4.,  0.,  4.,  0.,  2.,  4.,  4.,  0.,  8.]),\n",
       " array([ 0. ,  1.6,  3.2,  4.8,  6.4,  8. ,  9.6, 11.2, 12.8, 14.4, 16. ]),\n",
       " <a list of 10 Patch objects>)"
      ]
     },
     "execution_count": 40,
     "metadata": {},
     "output_type": "execute_result"
    },
    {
     "data": {
      "image/png": "[encoded data removed]",
      "text/plain": [
       "<Figure size 432x288 with 1 Axes>"
      ]
     },
     "metadata": {
      "needs_background": "light"
     },
     "output_type": "display_data"
    }
   ],
   "source": [
    "hist(X[sample_idx])"
   ]
  },
  {
   "cell_type": "markdown",
   "metadata": {},
   "source": [
    "## 3. Statistics\n",
    "In order to better understand the data, we will compute some basic statistics: the mean and variance, per class, for each digit, and visualize them as images."
   ]
  },
  {
   "cell_type": "code",
   "execution_count": 41,
   "metadata": {},
   "outputs": [
    {
     "name": "stdout",
     "output_type": "stream",
     "text": [
      "Classes in our data:  [0 1 2 3 4 5 6 7 8 9]\n"
     ]
    }
   ],
   "source": [
    "# Get all possible classes\n",
    "classes_list = np.unique(y).astype(int)\n",
    "print (\"Classes in our data: \", classes_list)"
   ]
  },
  {
   "cell_type": "markdown",
   "metadata": {},
   "source": [
    "### Problem 3.3\n",
    "Complete the code below to compute the mean image for every digit in the data set.\n",
    "\n",
    "The mean image of all images representing a 0 is an image where the pixel of coordinates (i, j) takes the average value of all (i, j) pixels among images of 0."
   ]
  },
  {
   "cell_type": "code",
   "execution_count": 44,
   "metadata": {},
   "outputs": [
    {
     "data": {
      "image/png": "[encoded data removed]",
      "text/plain": [
       "<Figure size 432x288 with 10 Axes>"
      ]
     },
     "metadata": {
      "needs_background": "light"
     },
     "output_type": "display_data"
    }
   ],
   "source": [
    "# For plotting\n",
    "fig = plt.figure()\n",
    "\n",
    "for idx in classes_list:\n",
    "    ax = fig.add_subplot(3, 4, idx+1) # plot number (idx+1) on a 3x4 grid\n",
    "    # Get indices of images of class idx\n",
    "    images_indices = np.where(y==idx)\n",
    "    \n",
    "    # Get the corresponding pixel descriptions\n",
    "    images = X[images_indices, :]\n",
    "    \n",
    "    # Compute the mean of these values\n",
    "    mean_image_pixels = np.mean(images[0], axis=0)\n",
    "    \n",
    "    # Transform into an 8x8 image\n",
    "    mean_image = np.reshape(mean_image_pixels, (8, 8))\n",
    "    \n",
    "    ax.imshow(mean_image, cmap='gray')"
   ]
  },
  {
   "cell_type": "markdown",
   "metadata": {},
   "source": [
    "## (Facultative) Classification by nearest centroid.\n",
    "\n",
    "The goal of this part is to make you implement your own classifier, based on a simple concept. For a new digit, you will return the class of its nearest mean digit.\n",
    "\n",
    "### Problem 3.4\n",
    "* Split the data base in two parts: `X_train`, `y_train` and `X_test`, `y_test`.\n",
    "* For each digit, compute on `X_train` its mean representation. Store those in `centroids_train`, which is a 10x64 array.\n",
    "* For each image of the test set, compute its nearest centroid. This is the prediction for this image. Store whether this prediction is correct\n",
    "* What is the overall percentage of correct predictions with this method?"
   ]
  },
  {
   "cell_type": "code",
   "execution_count": 55,
   "metadata": {},
   "outputs": [
    {
     "name": "stdout",
     "output_type": "stream",
     "text": [
      "Le taux de réussite est de : 90%\n",
      "Il y a eu des erreurs pour les images n° : [7, 8, 18, 22, 32, 39, 42, 49, 53, 54, 78, 89, 93, 102, 110, 112, 120, 197, 220, 251, 297, 299, 304, 312, 358, 366, 373, 390, 410, 439, 440, 443, 446, 463, 466, 525, 528, 542, 559, 563, 564, 570, 573, 587, 593, 597, 602, 610, 613, 616, 619, 624, 626, 631, 653, 654, 655, 671, 673, 675, 682, 684, 695, 697, 704, 705, 707, 708, 713, 720, 730, 735, 760, 762, 764, 767, 768, 782, 792, 814, 828, 829, 832, 849, 867, 892]\n"
     ]
    }
   ],
   "source": [
    "X_train = X[:len(X)//2]\n",
    "y_train = y[:len(y)//2]\n",
    "X_test = X[len(X)//2:]\n",
    "y_test = y[len(y)//2:]\n",
    "\n",
    "classes_list = np.unique(y_train).astype(int)\n",
    "centroids_train = []\n",
    "for idx in classes_list:\n",
    "    images_indices = np.where(y==idx)\n",
    "    images = X[images_indices, :]\n",
    "    mean_image_pixels = np.mean(images[0], axis=0)\n",
    "    centroids_train.append(mean_image_pixels)\n",
    "\n",
    "resultats = 0\n",
    "erreurs = []\n",
    "for i in range(len(X_test)):\n",
    "    liste_ecart_quadratique = []\n",
    "    for idx in classes_list:\n",
    "        ecart_quadratique_au_carre = 0\n",
    "        for j in range(len(X_test[i])):\n",
    "            ecart_quadratique_au_carre += np.square(X_test[i][j] - centroids_train[idx][j])\n",
    "        liste_ecart_quadratique.append(ecart_quadratique_au_carre)\n",
    "    prediction = np.argmin(liste_ecart_quadratique)\n",
    "\n",
    "    prediction_est_exacte = (prediction == y_test[i])\n",
    "    if prediction_est_exacte:\n",
    "        resultats+=1\n",
    "    else:\n",
    "        erreurs.append(i)\n",
    "\n",
    "pourcentage = resultats/len(X_test)*100\n",
    "\n",
    "print(\"Le taux de réussite est de : %d%%\" % pourcentage)\n",
    "print(\"Il y a eu des erreurs pour les images n° :\", erreurs)"
   ]
  },
  {
   "cell_type": "code",
   "execution_count": null,
   "metadata": {},
   "outputs": [],
   "source": []
  }
 ],
 "metadata": {
  "kernelspec": {
   "display_name": "Python 3",
   "language": "python",
   "name": "python3"
  },
  "language_info": {
   "codemirror_mode": {
    "name": "ipython",
    "version": 3
   },
   "file_extension": ".py",
   "mimetype": "text/x-python",
   "name": "python",
   "nbconvert_exporter": "python",
   "pygments_lexer": "ipython3",
   "version": "3.7.2"
  }
 },
 "nbformat": 4,
 "nbformat_minor": 2
}
